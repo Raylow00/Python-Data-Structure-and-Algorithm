{
  "nbformat": 4,
  "nbformat_minor": 0,
  "metadata": {
    "colab": {
      "name": "9_Linked Lists.ipynb",
      "provenance": []
    },
    "kernelspec": {
      "name": "python3",
      "display_name": "Python 3"
    },
    "accelerator": "GPU"
  },
  "cells": [
    {
      "cell_type": "markdown",
      "metadata": {
        "id": "zvnpE3eooP_B"
      },
      "source": [
        "Linked list is a sequence of data elements connected together via links in the form of a pointer.\n",
        "\n",
        "Python does not have linked lists in its standard library, which is why the concept of nodes is used"
      ]
    },
    {
      "cell_type": "markdown",
      "metadata": {
        "id": "IUvSSkrdohFS"
      },
      "source": [
        "We create a Node object and create another class to use this Node object. Passing the appropriate values through the node object we can point to the next data elements"
      ]
    },
    {
      "cell_type": "code",
      "metadata": {
        "id": "MKHkH0aEoq38"
      },
      "source": [
        "class Node:\n",
        "  def __init__(self, dataVal=None):\n",
        "    self.dataVal = dataVal\n",
        "    self.nextVal = None\n",
        "    \n",
        "class SLinkedList:\n",
        "  def __init__(self):\n",
        "    self.headVal = None\n",
        "    \n",
        "list1 = SLinkedList()\n",
        "list1.headVal = Node(\"Mon\")\n",
        "e2 = Node(\"Tue\")\n",
        "e3 = Node(\"Wed\")\n",
        "\n",
        "#Link first Node to second node\n",
        "list1.headVal.nextVal = e2\n",
        "\n",
        "#Link second node to third node\n",
        "e2.nextVal = e3"
      ],
      "execution_count": 1,
      "outputs": []
    },
    {
      "cell_type": "markdown",
      "metadata": {
        "id": "7I7H8p80qF_l"
      },
      "source": [
        "Traversing a linked list\n",
        "\n",
        "Singly linked lists can only be traversed in forward direction only"
      ]
    },
    {
      "cell_type": "code",
      "metadata": {
        "id": "3Fwq7ftGqNHP",
        "colab": {
          "base_uri": "https://localhost:8080/"
        },
        "outputId": "24c57dd4-71fa-4a81-f3d4-679f13b01193"
      },
      "source": [
        "class Node:\n",
        "  def __init__(self, dataVal=None):\n",
        "    self.dataVal = dataVal\n",
        "    self.nextVal = None\n",
        "    \n",
        "class SLinkedList:\n",
        "  def __init__(self):\n",
        "    self.headVal = None\n",
        "    \n",
        "  def listprint(self):\n",
        "    printval = self.headVal\n",
        "    while printval is not None:\n",
        "      print(printval.dataVal)\n",
        "      printval = printval.nextVal\n",
        "        \n",
        "list1 = SLinkedList()\n",
        "list1.headVal = Node('Mon')\n",
        "e2 = Node('Tue')\n",
        "e3 = Node('Wed')\n",
        "\n",
        "#link first node to second node\n",
        "list1.headVal.nextVal = e2\n",
        "#link second node to third node\n",
        "e2.nextVal = e3\n",
        "\n",
        "list1.listprint()"
      ],
      "execution_count": 2,
      "outputs": [
        {
          "output_type": "stream",
          "text": [
            "Mon\n",
            "Tue\n",
            "Wed\n"
          ],
          "name": "stdout"
        }
      ]
    },
    {
      "cell_type": "markdown",
      "metadata": {
        "id": "Q6MiA1m8r3p_"
      },
      "source": [
        "Insertion in a Linked List\n",
        "- involves reassigning the pointers from the existing nodes to the newly inserted node"
      ]
    },
    {
      "cell_type": "markdown",
      "metadata": {
        "id": "CQBkC1nXsAup"
      },
      "source": [
        "Inserting at the BEGINNING of the linked list"
      ]
    },
    {
      "cell_type": "code",
      "metadata": {
        "id": "SeoI_-yQsEAQ",
        "colab": {
          "base_uri": "https://localhost:8080/"
        },
        "outputId": "31f2bcab-ec83-4d2c-ef9d-2f082776f19a"
      },
      "source": [
        "class Node:\n",
        "  def __init__(self, dataVal = None):\n",
        "    self.dataVal = dataVal\n",
        "    self.nextVal = None\n",
        "    \n",
        "class SLinkedList:\n",
        "  def __init__(self):\n",
        "    self.headVal = None\n",
        "  \n",
        "  def listprint(self):\n",
        "    printval = self.headVal\n",
        "    while printval is not None:\n",
        "      print(printval.dataVal)\n",
        "      printval = printval.nextVal\n",
        "      \n",
        "  def AtBeginning(self, newdata):\n",
        "    NewNode = Node(newdata)\n",
        "    \n",
        "    #update the new node's next val to existing node\n",
        "    NewNode.nextVal = self.headVal\n",
        "    self.headVal = NewNode\n",
        "    \n",
        "list2 = SLinkedList()\n",
        "list2.headVal = Node('Mon')\n",
        "e2 = Node('Tue')\n",
        "e3 = Node('Wed')\n",
        "\n",
        "list2.headVal.nextVal = e2\n",
        "e2.nextVal = e3\n",
        "\n",
        "list2.AtBeginning('Sun')\n",
        "\n",
        "list2.listprint()"
      ],
      "execution_count": 3,
      "outputs": [
        {
          "output_type": "stream",
          "text": [
            "Sun\n",
            "Mon\n",
            "Tue\n",
            "Wed\n"
          ],
          "name": "stdout"
        }
      ]
    },
    {
      "cell_type": "markdown",
      "metadata": {
        "id": "j8nh5vHetN-n"
      },
      "source": [
        "Inserting at the END  of the linked list"
      ]
    },
    {
      "cell_type": "code",
      "metadata": {
        "id": "_R4Ryq5MtP4d"
      },
      "source": [
        "class Node:\n",
        "  def __init__(self, dataVal = None):\n",
        "    self.dataVal = dataVal\n",
        "    self.nextVal = None\n",
        "    \n",
        "class SLinkedList:\n",
        "  def __init__(self):\n",
        "    self.headVal = None\n",
        "    \n",
        "  #Function to add new node at the end\n",
        "  def AtEnd(self, newdata):\n",
        "    NewNode = Node(newdata)\n",
        "    if self.headVal is None:\n",
        "      self.headVal = NewNode\n",
        "      return\n",
        "    laste = self.headVal\n",
        "    while(laste.nextVal):\n",
        "      laste = laste.nextVal\n",
        "    laste.nextVal = NewNode\n",
        "    \n",
        "  def listprint(self):\n",
        "    printval = self.headVal\n",
        "    while printval is not None:\n",
        "      print(printval.dataVal)\n",
        "      printval = printval.nextVal"
      ],
      "execution_count": 4,
      "outputs": []
    },
    {
      "cell_type": "markdown",
      "metadata": {
        "id": "He29SEfdvxUn"
      },
      "source": [
        "Inserting in between TWO DATA NODES"
      ]
    },
    {
      "cell_type": "code",
      "metadata": {
        "id": "ptZcF3HHvz_q",
        "colab": {
          "base_uri": "https://localhost:8080/"
        },
        "outputId": "4a8e5f5b-cd68-472f-bf72-b746d5cf724a"
      },
      "source": [
        "class Node:\n",
        "  def __init__(self, dataVal = None):\n",
        "    self.dataVal = dataVal\n",
        "    self.nextVal = None\n",
        "    \n",
        "class SLinkedList:\n",
        "  def __init__(self):\n",
        "    self.headVal = None\n",
        "    \n",
        "  def InBetween(self, middle_node, newdata):\n",
        "    if middle_node is None:\n",
        "      print('The mentioned node is abset')\n",
        "      return\n",
        "    NewNode = Node(newdata)\n",
        "    NewNode.nextVal = middle_node.nextVal\n",
        "    middle_node.nextVal = NewNode\n",
        "    \n",
        "  def listprint(self):\n",
        "    printval = self.headVal\n",
        "    while printval is not None:\n",
        "      print(printval.dataVal)\n",
        "      printval = printval.nextVal\n",
        "      \n",
        "list3 = SLinkedList()\n",
        "list3.headVal = Node('Mon')\n",
        "e2 = Node('Tue')\n",
        "e3 = Node('Wed')\n",
        "list3.headVal.nextVal = e2\n",
        "e2.nextVal = e3\n",
        "\n",
        "list3.InBetween(list3.headVal.nextVal, 'Fri')\n",
        "\n",
        "list3.listprint()"
      ],
      "execution_count": 5,
      "outputs": [
        {
          "output_type": "stream",
          "text": [
            "Mon\n",
            "Tue\n",
            "Fri\n",
            "Wed\n"
          ],
          "name": "stdout"
        }
      ]
    },
    {
      "cell_type": "markdown",
      "metadata": {
        "id": "KssjUCA4zXDb"
      },
      "source": [
        "Removing an item from a linked list"
      ]
    },
    {
      "cell_type": "code",
      "metadata": {
        "id": "cAtexBvTzrHx",
        "colab": {
          "base_uri": "https://localhost:8080/"
        },
        "outputId": "530bcf91-4623-4387-de23-c779e7283bb8"
      },
      "source": [
        "class Node:\n",
        "  def __init__(self, data=None):\n",
        "    self.data = data\n",
        "    self.next = None\n",
        "    \n",
        "class SLinkedList:\n",
        "  def __init__(self):\n",
        "    self.head = None\n",
        "    \n",
        "  def AtBeginning(self, data_in):\n",
        "    NewNode = Node(data_in)\n",
        "    NewNode.next = self.head\n",
        "    self.head = NewNode\n",
        "    \n",
        "  def RemoveNode(self, removeKey):\n",
        "    HeadVal = self.head\n",
        "    \n",
        "    if(HeadVal is not None):\n",
        "      if(HeadVal.data == removeKey):\n",
        "        self.head = HeadVal.next\n",
        "        HeadVal = None\n",
        "        return\n",
        "    while(HeadVal is not None):\n",
        "      if HeadVal.data == removeKey:\n",
        "        break\n",
        "      prev = HeadVal\n",
        "      HeadVal = HeadVal.next\n",
        "      \n",
        "    if(HeadVal == None):\n",
        "      return\n",
        "    \n",
        "    prev.next = HeadVal.next\n",
        "    \n",
        "    HeadVal = None\n",
        "    \n",
        "  def listprint(self):\n",
        "    printval = self.head\n",
        "    while(printval):\n",
        "      print(printval.data)\n",
        "      printval = printval.next\n",
        "      \n",
        "      \n",
        "list4 = SLinkedList()\n",
        "list4.AtBeginning('Mon')\n",
        "list4.AtBeginning('Tue')\n",
        "list4.AtBeginning('Wed')\n",
        "list4.AtBeginning('Thur')\n",
        "list4.AtBeginning('Tue')\n",
        "\n",
        "list4.RemoveNode('Tue')\n",
        "list4.listprint()"
      ],
      "execution_count": 6,
      "outputs": [
        {
          "output_type": "stream",
          "text": [
            "Thur\n",
            "Wed\n",
            "Tue\n",
            "Mon\n"
          ],
          "name": "stdout"
        }
      ]
    }
  ]
}