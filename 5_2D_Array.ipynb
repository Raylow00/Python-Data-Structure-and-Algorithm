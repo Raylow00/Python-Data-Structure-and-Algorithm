{
  "nbformat": 4,
  "nbformat_minor": 0,
  "metadata": {
    "colab": {
      "name": "5_2D Array.ipynb",
      "provenance": [],
      "collapsed_sections": []
    },
    "kernelspec": {
      "name": "python3",
      "display_name": "Python 3"
    },
    "accelerator": "GPU"
  },
  "cells": [
    {
      "cell_type": "markdown",
      "metadata": {
        "id": "Yfx7Qzd82urN"
      },
      "source": [
        "2D array is an array of arrays\n",
        "\n",
        "The position of an element is referred to by using 2 indices instead of 1.\n"
      ]
    },
    {
      "cell_type": "markdown",
      "metadata": {
        "id": "5cg49zVJ27G2"
      },
      "source": [
        "Consider 4 days, with each day recording a temperature a few times \n",
        "\n",
        "Day 1 - 11 12 5 2\n",
        "\n",
        "Day 2 - 15 6 10\n",
        "\n",
        "Day 3 - 10 8 12 5\n",
        "\n",
        "Day 4 - 12 15 8 6\n"
      ]
    },
    {
      "cell_type": "code",
      "metadata": {
        "id": "IJJUn0Vl3H1d"
      },
      "source": [
        "#represented as 2D array\n",
        "\n",
        "T = [[11,12,5,2], [15,6,10], [10,8,12,5], [12,15,8,6]]\n"
      ],
      "execution_count": 1,
      "outputs": []
    },
    {
      "cell_type": "markdown",
      "metadata": {
        "id": "hmjYwbl13R5R"
      },
      "source": [
        "Accessing elements in 2D array"
      ]
    },
    {
      "cell_type": "code",
      "metadata": {
        "id": "6OuUaaN53UAz",
        "colab": {
          "base_uri": "https://localhost:8080/"
        },
        "outputId": "72b16bad-8757-490a-9e27-4168ab4f3f3b"
      },
      "source": [
        "print(T[0])\n",
        "print(T[0][3])"
      ],
      "execution_count": 2,
      "outputs": [
        {
          "output_type": "stream",
          "text": [
            "[11, 12, 5, 2]\n",
            "2\n"
          ],
          "name": "stdout"
        }
      ]
    },
    {
      "cell_type": "code",
      "metadata": {
        "id": "ayKN_UUP3rZS",
        "colab": {
          "base_uri": "https://localhost:8080/"
        },
        "outputId": "6c7daeab-846d-4f0d-83f0-91811e7c2c9c"
      },
      "source": [
        "for r in T:\n",
        "  for c in r:\n",
        "    print(c, end=\" \")\n",
        "  print()"
      ],
      "execution_count": 3,
      "outputs": [
        {
          "output_type": "stream",
          "text": [
            "11 12 5 2 \n",
            "15 6 10 \n",
            "10 8 12 5 \n",
            "12 15 8 6 \n"
          ],
          "name": "stdout"
        }
      ]
    },
    {
      "cell_type": "markdown",
      "metadata": {
        "id": "wmvJClfH38QQ"
      },
      "source": [
        "Inserting values in 2D array\n"
      ]
    },
    {
      "cell_type": "code",
      "metadata": {
        "id": "dmsNbecx3-8k",
        "colab": {
          "base_uri": "https://localhost:8080/"
        },
        "outputId": "7e8e69de-1ab4-4366-feb7-4ca7132017ae"
      },
      "source": [
        "#Inserting at index position 2 a new array\n",
        "T.insert(2, [0,5,11,13,6])\n",
        "for r in T:\n",
        "  for c in r:\n",
        "    print(c, end=\" \")\n",
        "  print()"
      ],
      "execution_count": 4,
      "outputs": [
        {
          "output_type": "stream",
          "text": [
            "11 12 5 2 \n",
            "15 6 10 \n",
            "0 5 11 13 6 \n",
            "10 8 12 5 \n",
            "12 15 8 6 \n"
          ],
          "name": "stdout"
        }
      ]
    },
    {
      "cell_type": "markdown",
      "metadata": {
        "id": "cvT6MeXl4QOb"
      },
      "source": [
        "Updating values in 2D array"
      ]
    },
    {
      "cell_type": "code",
      "metadata": {
        "id": "1EDq74r54R2x",
        "colab": {
          "base_uri": "https://localhost:8080/"
        },
        "outputId": "f0fb579b-4199-46ce-baa9-8688a62b7fee"
      },
      "source": [
        "T[2] = [11,9]\n",
        "T[0][3] = 7\n",
        "\n",
        "for r in T:\n",
        "  for c in r:\n",
        "    print(c, end=\" \")\n",
        "  print()"
      ],
      "execution_count": 5,
      "outputs": [
        {
          "output_type": "stream",
          "text": [
            "11 12 5 7 \n",
            "15 6 10 \n",
            "11 9 \n",
            "10 8 12 5 \n",
            "12 15 8 6 \n"
          ],
          "name": "stdout"
        }
      ]
    },
    {
      "cell_type": "markdown",
      "metadata": {
        "id": "pypnKA6z4aFY"
      },
      "source": [
        "Deleting values in 2D array"
      ]
    },
    {
      "cell_type": "code",
      "metadata": {
        "id": "iBO7jZyT4bkv",
        "colab": {
          "base_uri": "https://localhost:8080/"
        },
        "outputId": "7722fd73-ebf1-4447-c410-0638ad8e6eef"
      },
      "source": [
        "del T[3]\n",
        "for r in T:\n",
        "  for c in r:\n",
        "    print(c, end=\" \")\n",
        "  print()"
      ],
      "execution_count": 6,
      "outputs": [
        {
          "output_type": "stream",
          "text": [
            "11 12 5 7 \n",
            "15 6 10 \n",
            "11 9 \n",
            "12 15 8 6 \n"
          ],
          "name": "stdout"
        }
      ]
    }
  ]
}