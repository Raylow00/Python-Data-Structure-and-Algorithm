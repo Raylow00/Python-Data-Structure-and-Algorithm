{
  "nbformat": 4,
  "nbformat_minor": 0,
  "metadata": {
    "colab": {
      "name": "12_Doubly Linked List.ipynb",
      "provenance": [],
      "collapsed_sections": []
    },
    "kernelspec": {
      "name": "python3",
      "display_name": "Python 3"
    },
    "accelerator": "GPU"
  },
  "cells": [
    {
      "cell_type": "markdown",
      "metadata": {
        "id": "dodmuVssD7xf"
      },
      "source": [
        "Doubly linked list\n",
        "- contains a link element called first and last\n",
        "- each link carries a data field and two link fields called next and prev\n",
        "- the last link carries a link as null to mark the end of the list\n",
        "\n",
        "Push\n",
        "- is to make the new node the head of the linked list\n",
        "\n",
        "Append\n",
        "- is to add the new data at the end of the linked list\n",
        "\n",
        "List\n",
        "- to view the linked list, hence the first element to see as the head will be the last number you pushed in using the Push() method"
      ]
    },
    {
      "cell_type": "markdown",
      "metadata": {
        "id": "jdXG9PAKEIm9"
      },
      "source": [
        "Creating a doubly linked list"
      ]
    },
    {
      "cell_type": "code",
      "metadata": {
        "id": "CqSdYM0dEKUM",
        "colab": {
          "base_uri": "https://localhost:8080/"
        },
        "outputId": "ba07dbc4-3c64-4dc8-def5-7c03ca910351"
      },
      "source": [
        "class Node:\n",
        "  def __init__(self, data):\n",
        "    self.data = data\n",
        "    self.next = None\n",
        "    self.prev = None\n",
        "    \n",
        "class DLL:\n",
        "  def __init__(self):\n",
        "    self.head = None\n",
        "    \n",
        "  def push(self, newdata):\n",
        "    newnode = Node(newdata)\n",
        "    newnode.next = self.head\n",
        "    if self.head is not None:\n",
        "      self.head.prev = newnode\n",
        "    self.head = newnode\n",
        "    \n",
        "  def listprint(self, node):\n",
        "    while(node is not None):\n",
        "      print(node.data)\n",
        "      last = node\n",
        "      node = node.next\n",
        "      \n",
        "dll1 = DLL()\n",
        "dll1.push(12)\n",
        "dll1.push(8)\n",
        "dll1.push(62)\n",
        "\n",
        "dll1.listprint(dll1.head)"
      ],
      "execution_count": 1,
      "outputs": [
        {
          "output_type": "stream",
          "text": [
            "62\n",
            "8\n",
            "12\n"
          ],
          "name": "stdout"
        }
      ]
    },
    {
      "cell_type": "markdown",
      "metadata": {
        "id": "9qFhd-5ZIJz4"
      },
      "source": [
        "Inserting into doubly linked list"
      ]
    },
    {
      "cell_type": "code",
      "metadata": {
        "id": "D_GS3s9rH39g",
        "colab": {
          "base_uri": "https://localhost:8080/"
        },
        "outputId": "26f939a3-fcec-4e29-ad37-60e886ff089e"
      },
      "source": [
        "class Node:\n",
        "  def __init__(self, data):\n",
        "    self.data = data\n",
        "    self.next = None\n",
        "    self.prev = None\n",
        "    \n",
        "class DLL:\n",
        "  def __init__(self):\n",
        "    self.head = None\n",
        "    \n",
        "  def push(self, newdata):\n",
        "    newnode = Node(newdata)\n",
        "    newnode.next = self.head\n",
        "    if self.head is not None:\n",
        "      self.head.previous = newnode\n",
        "    self.head = newnode\n",
        "    \n",
        "  def insert(self, prev_node, newval):\n",
        "    if prev_node is None:\n",
        "      return\n",
        "    newnode = Node(newval)\n",
        "    newnode.next = prev_node.next\n",
        "    prev_node.next = newnode\n",
        "    newnode.prev = prev_node\n",
        "    if newnode.next is not None:\n",
        "      newnode.next.prev = newnode\n",
        "      \n",
        "  def listprint(self, node):\n",
        "    while node is not None:\n",
        "      print(node.data)\n",
        "      last = node\n",
        "      node = node.next\n",
        "      \n",
        "      \n",
        "dll2 = DLL()\n",
        "dll2.push(12)\n",
        "dll2.push(8)\n",
        "dll2.push(13)\n",
        "\n",
        "#insert after the second element, to be 3rd element\n",
        "dll2.insert(dll2.head.next, 62)\n",
        "dll2.listprint(dll2.head)"
      ],
      "execution_count": 2,
      "outputs": [
        {
          "output_type": "stream",
          "text": [
            "13\n",
            "8\n",
            "62\n",
            "12\n"
          ],
          "name": "stdout"
        }
      ]
    },
    {
      "cell_type": "markdown",
      "metadata": {
        "id": "AIPjHCqcLhwU"
      },
      "source": [
        "Appending to a doubly linked list"
      ]
    },
    {
      "cell_type": "code",
      "metadata": {
        "id": "eyU31eY0LjWk",
        "colab": {
          "base_uri": "https://localhost:8080/"
        },
        "outputId": "0862941f-6c9a-4f8a-ebbf-31b9df8e33c3"
      },
      "source": [
        "class Node:\n",
        "  def __init__(self, data):\n",
        "    self.data = data\n",
        "    self.next = None\n",
        "    self.prev = None\n",
        "    \n",
        "class DLL:\n",
        "  def __init__(self):\n",
        "    self.head = None\n",
        "    \n",
        "  def push(self, newval):\n",
        "    newnode = Node(newval)\n",
        "    newnode.next = self.head\n",
        "    if self.head is not None:\n",
        "      self.head.prev = newnode\n",
        "    self.head = newnode\n",
        "    \n",
        "  def append(self, newval):\n",
        "    newnode = Node(newval)\n",
        "    newnode.next = None\n",
        "    if self.head is None:\n",
        "      newnode.prev = None\n",
        "      self.head = newnode\n",
        "      return\n",
        "    last = self.head\n",
        "    while(last.next is not None):\n",
        "      last = last.next\n",
        "    last.next = newnode\n",
        "    newnode.prev = last\n",
        "    return\n",
        "  \n",
        "  def listprint(self, node):\n",
        "    while(node is not None):\n",
        "      print(node.data)\n",
        "      last = node\n",
        "      node = node.next\n",
        "      \n",
        "      \n",
        "dll3 = DLL()\n",
        "dll3.push(12)\n",
        "dll3.push(8)\n",
        "dll3.append(90)\n",
        "dll3.push(45)\n",
        "dll3.append(10)\n",
        "\n",
        "dll3.listprint(dll3.head)"
      ],
      "execution_count": 3,
      "outputs": [
        {
          "output_type": "stream",
          "text": [
            "45\n",
            "8\n",
            "12\n",
            "90\n",
            "10\n"
          ],
          "name": "stdout"
        }
      ]
    }
  ]
}