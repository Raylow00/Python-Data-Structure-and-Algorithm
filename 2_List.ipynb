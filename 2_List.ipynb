{
  "nbformat": 4,
  "nbformat_minor": 0,
  "metadata": {
    "colab": {
      "name": "2_List.ipynb",
      "provenance": [],
      "collapsed_sections": []
    },
    "kernelspec": {
      "name": "python3",
      "display_name": "Python 3"
    },
    "accelerator": "GPU"
  },
  "cells": [
    {
      "cell_type": "markdown",
      "metadata": {
        "id": "brHmvA23fQlx"
      },
      "source": [
        "List\n",
        "- a list of comma-separated values which need NOT be of the SAME TYPE\n",
        "\n"
      ]
    },
    {
      "cell_type": "markdown",
      "metadata": {
        "id": "jn7U9tlnfq0b"
      },
      "source": [
        "Accessing values in lists"
      ]
    },
    {
      "cell_type": "code",
      "metadata": {
        "id": "--DYyuHOfZKy",
        "colab": {
          "base_uri": "https://localhost:8080/"
        },
        "outputId": "2ae7abf0-53fc-4583-fe02-9603a9468b42"
      },
      "source": [
        "list1 = ['physics', 'chemistry', 1997, 2000]\n",
        "list2 = [1, 2, 3, 4, 5]\n",
        "\n",
        "print(\"List1[0]:\", list1[0])\n",
        "print(\"List2[1:5]\", list2[1:5])"
      ],
      "execution_count": 1,
      "outputs": [
        {
          "output_type": "stream",
          "text": [
            "List1[0]: physics\n",
            "List2[1:5] [2, 3, 4, 5]\n"
          ],
          "name": "stdout"
        }
      ]
    },
    {
      "cell_type": "markdown",
      "metadata": {
        "id": "fGekq6Szfsvm"
      },
      "source": [
        "Updating lists"
      ]
    },
    {
      "cell_type": "code",
      "metadata": {
        "id": "yM-hc7frfnrQ",
        "colab": {
          "base_uri": "https://localhost:8080/"
        },
        "outputId": "ca866228-7c74-4cc8-ec10-569ef62e4fac"
      },
      "source": [
        "list1[2] = 2001\n",
        "print(\"Now the value in list1 at index 2 is \", list1[2])\n",
        "for x in list1:\n",
        "  print(x)"
      ],
      "execution_count": 2,
      "outputs": [
        {
          "output_type": "stream",
          "text": [
            "Now the value in list1 at index 2 is  2001\n",
            "physics\n",
            "chemistry\n",
            "2001\n",
            "2000\n"
          ],
          "name": "stdout"
        }
      ]
    },
    {
      "cell_type": "markdown",
      "metadata": {
        "id": "LxnLPyw2f5h3"
      },
      "source": [
        "Delete list elements\n"
      ]
    },
    {
      "cell_type": "code",
      "metadata": {
        "id": "CFbFC2U1f73W",
        "colab": {
          "base_uri": "https://localhost:8080/"
        },
        "outputId": "8e974fa3-5d36-476c-a2e5-824f4610ca83"
      },
      "source": [
        "del list1[2]\n",
        "\n",
        "print(\"Now the value of 2001 in list1 at index 2 is missing\")\n",
        "for x in list1:\n",
        "  print(x)"
      ],
      "execution_count": 3,
      "outputs": [
        {
          "output_type": "stream",
          "text": [
            "Now the value of 2001 in list1 at index 2 is missing\n",
            "physics\n",
            "chemistry\n",
            "2000\n"
          ],
          "name": "stdout"
        }
      ]
    },
    {
      "cell_type": "markdown",
      "metadata": {
        "id": "rF0b9V0YgTF7"
      },
      "source": [
        "Basic List operation\n",
        "- length\n",
        "- concatenation\n",
        "- repetition\n",
        "- membership\n",
        "- iteration"
      ]
    },
    {
      "cell_type": "code",
      "metadata": {
        "id": "fXa2QAf3gFtO",
        "colab": {
          "base_uri": "https://localhost:8080/"
        },
        "outputId": "b2a059e9-7658-42f5-abe1-44c234cce166"
      },
      "source": [
        "#length\n",
        "len([1,2,3])\n",
        "\n",
        "#concatenation\n",
        "[1,2,3] + [4,5,6]\n",
        "\n",
        "#repetition\n",
        "[\"Hi!\"] * 4\n",
        "\n",
        "#membership\n",
        "3 in [1,2,3]\n",
        "\n",
        "#iteration\n",
        "for x in [1,2,3]:\n",
        "  print(x)"
      ],
      "execution_count": 4,
      "outputs": [
        {
          "output_type": "stream",
          "text": [
            "1\n",
            "2\n",
            "3\n"
          ],
          "name": "stdout"
        }
      ]
    }
  ]
}