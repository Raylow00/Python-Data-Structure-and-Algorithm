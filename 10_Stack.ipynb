{
  "nbformat": 4,
  "nbformat_minor": 0,
  "metadata": {
    "colab": {
      "name": "10_Stack.ipynb",
      "provenance": [],
      "collapsed_sections": []
    },
    "kernelspec": {
      "name": "python3",
      "display_name": "Python 3"
    },
    "accelerator": "GPU"
  },
  "cells": [
    {
      "cell_type": "markdown",
      "metadata": {
        "id": "1vjcFK0K5K4V"
      },
      "source": [
        "Stack\n",
        "- Last In First Out (LIFO)\n",
        "- Push and Pop"
      ]
    },
    {
      "cell_type": "markdown",
      "metadata": {
        "id": "9pnvQkju5SXk"
      },
      "source": [
        "PUSH into a stack\n",
        "- built in append()"
      ]
    },
    {
      "cell_type": "code",
      "metadata": {
        "id": "ibNFe4TO5ROi",
        "colab": {
          "base_uri": "https://localhost:8080/"
        },
        "outputId": "376b6bcd-8593-44ae-d588-19a1686a263d"
      },
      "source": [
        "class Stack:\n",
        "  def __init__(self):\n",
        "    self.stack = []\n",
        "    \n",
        "  def add(self, dataval):\n",
        "    if dataval not in self.stack:\n",
        "      self.stack.append(dataval)\n",
        "      return True\n",
        "    else:\n",
        "      return False\n",
        "    \n",
        "  def peek(self):\n",
        "    #look at the top of the stack, meaning the last element\n",
        "    return self.stack[-1]\n",
        "  \n",
        "  \n",
        "stack1 = Stack()\n",
        "stack1.add('Mon')\n",
        "stack1.add('Tue')\n",
        "\n",
        "stack1.peek()\n",
        "#view the last element\n",
        "print(stack1.peek())\n",
        "\n",
        "stack1.add('Wed')\n",
        "stack1.add('Thur')\n",
        "print(stack1.peek())\n"
      ],
      "execution_count": 1,
      "outputs": [
        {
          "output_type": "stream",
          "text": [
            "Tue\n",
            "Thur\n"
          ],
          "name": "stdout"
        }
      ]
    },
    {
      "cell_type": "markdown",
      "metadata": {
        "id": "Kn449JsD58B9"
      },
      "source": [
        "POP from a stack\n",
        "- built in pop()"
      ]
    },
    {
      "cell_type": "code",
      "metadata": {
        "id": "P86V6Wed54uF",
        "colab": {
          "base_uri": "https://localhost:8080/"
        },
        "outputId": "0cdade2e-cdef-4f7b-8722-ee8d021ef5d3"
      },
      "source": [
        "class Stack:\n",
        "  def __init__(self):\n",
        "    self.stack = []\n",
        "    \n",
        "  def add(self, dataval):\n",
        "    if dataval not in self.stack:\n",
        "      self.stack.append(dataval)\n",
        "      return True\n",
        "    else:\n",
        "      return False\n",
        "    \n",
        "  def remove(self):\n",
        "    if(len(self.stack)<=0):\n",
        "      return ('No element is present in the stack')\n",
        "    else:\n",
        "      return self.stack.pop()\n",
        "    \n",
        "  def peek(self):\n",
        "    return self.stack[-1]\n",
        "    \n",
        "stack2 = Stack()\n",
        "stack2.add('Mon')\n",
        "stack2.add('Tue')\n",
        "stack2.add('Wed')\n",
        "\n",
        "stack2.remove()\n",
        "stack2.remove()\n",
        "\n",
        "print(stack2.peek())"
      ],
      "execution_count": 2,
      "outputs": [
        {
          "output_type": "stream",
          "text": [
            "Mon\n"
          ],
          "name": "stdout"
        }
      ]
    }
  ]
}