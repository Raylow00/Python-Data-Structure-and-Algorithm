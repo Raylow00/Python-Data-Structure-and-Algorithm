{
  "nbformat": 4,
  "nbformat_minor": 0,
  "metadata": {
    "colab": {
      "name": "13_Hash Table.ipynb",
      "provenance": [],
      "collapsed_sections": []
    },
    "kernelspec": {
      "name": "python3",
      "display_name": "Python 3"
    },
    "accelerator": "GPU"
  },
  "cells": [
    {
      "cell_type": "markdown",
      "metadata": {
        "id": "EaZs6b5CIywj"
      },
      "source": [
        "Hash table\n",
        "- a type of data structure in which the address or the index value of the data element is generated from a hash function\n",
        "- makes accessing the data faster as the index value behaves as the key for the data value\n",
        "- the table stores key-value pairs but the key is generated through a hash function\n",
        "- SAME AS DICTIONARY IN PYTHON\n",
        "- order of data elements is not fixed\n"
      ]
    },
    {
      "cell_type": "markdown",
      "metadata": {
        "id": "Xs9EghuoKqA_"
      },
      "source": [
        "Accessing values in dictionary"
      ]
    },
    {
      "cell_type": "code",
      "metadata": {
        "id": "VYNVzmnKKsAH",
        "colab": {
          "base_uri": "https://localhost:8080/"
        },
        "outputId": "7891d7bb-639e-4827-d1bd-ce0b1836bc3c"
      },
      "source": [
        "dict1 = {'Name':'Zara', 'Age':7, 'Class':'First'}\n",
        "\n",
        "print(\"dict1['Name']: \", dict1['Name'])\n",
        "print(\"dict1['Age']: \", dict1['Age'])"
      ],
      "execution_count": 1,
      "outputs": [
        {
          "output_type": "stream",
          "text": [
            "dict1['Name']:  Zara\n",
            "dict1['Age']:  7\n"
          ],
          "name": "stdout"
        }
      ]
    },
    {
      "cell_type": "markdown",
      "metadata": {
        "id": "QJnERcf1LE7b"
      },
      "source": [
        "Updating a dictionary"
      ]
    },
    {
      "cell_type": "code",
      "metadata": {
        "id": "5DowcAedLGRh",
        "colab": {
          "base_uri": "https://localhost:8080/"
        },
        "outputId": "1a2324bc-3b5c-4ac6-9d08-2be6a982a9cb"
      },
      "source": [
        "dict1['Age'] = 8\n",
        "dict1['School'] = 'DPS School'\n",
        "print(\"dict1['Age']: \", dict1['Age'])\n",
        "print(\"dict1['School']: \", dict1['School'])"
      ],
      "execution_count": 2,
      "outputs": [
        {
          "output_type": "stream",
          "text": [
            "dict1['Age']:  8\n",
            "dict1['School']:  DPS School\n"
          ],
          "name": "stdout"
        }
      ]
    },
    {
      "cell_type": "markdown",
      "metadata": {
        "id": "BwFWi6N2LW00"
      },
      "source": [
        "Delete dictionary elements"
      ]
    },
    {
      "cell_type": "code",
      "metadata": {
        "id": "4Lztgbt3LX8L"
      },
      "source": [
        "#Delete the entry with key 'Name'\n",
        "del dict1['Name']\n",
        "\n",
        "#Remove all entries in the dict\n",
        "dict1.clear()\n",
        "\n",
        "#Delete entire dictionary\n",
        "del dict1"
      ],
      "execution_count": 3,
      "outputs": []
    }
  ]
}