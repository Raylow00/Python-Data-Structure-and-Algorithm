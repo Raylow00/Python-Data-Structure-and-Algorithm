{
  "nbformat": 4,
  "nbformat_minor": 0,
  "metadata": {
    "colab": {
      "name": "14_Binary Tree.ipynb",
      "provenance": [],
      "collapsed_sections": []
    },
    "kernelspec": {
      "name": "python3",
      "display_name": "Python 3"
    },
    "accelerator": "GPU"
  },
  "cells": [
    {
      "cell_type": "markdown",
      "metadata": {
        "id": "eppoNc4lM9Ul"
      },
      "source": [
        "Binary tree\n",
        "- represents the nodes connected by edges\n",
        "- non-linear data structure\n",
        "\n",
        "Properties:\n",
        "- one node is marked as root node\n",
        "- every node other than the root is associated with one parent node\n",
        "- each node can have an arbitrary number of child nodes\n"
      ]
    },
    {
      "cell_type": "markdown",
      "metadata": {
        "id": "ibN8LrUUNNWY"
      },
      "source": [
        "Creating a root node"
      ]
    },
    {
      "cell_type": "code",
      "metadata": {
        "id": "RHrzfROBNO0Z",
        "colab": {
          "base_uri": "https://localhost:8080/"
        },
        "outputId": "2a3ba19d-9a05-4add-c0d4-b59e44a41f88"
      },
      "source": [
        "class Node:\n",
        "  def __init__(self, data):\n",
        "    self.left = None\n",
        "    self.right = None\n",
        "    self.data = data\n",
        "    \n",
        "  def printTree(self):\n",
        "    print(self.data)\n",
        "    \n",
        "root = Node(10)\n",
        "root.printTree()"
      ],
      "execution_count": 1,
      "outputs": [
        {
          "output_type": "stream",
          "text": [
            "10\n"
          ],
          "name": "stdout"
        }
      ]
    },
    {
      "cell_type": "markdown",
      "metadata": {
        "id": "owNMGAdRNbYf"
      },
      "source": [
        "Inserting into a tree"
      ]
    },
    {
      "cell_type": "code",
      "metadata": {
        "id": "7s8fm0yJNMqA",
        "colab": {
          "base_uri": "https://localhost:8080/"
        },
        "outputId": "53afb48a-9e2a-4a37-97ce-51bb1e67d659"
      },
      "source": [
        "class Node:\n",
        "  def __init__(self,data):\n",
        "    self.left = None\n",
        "    self.right = None\n",
        "    self.data = data\n",
        "    \n",
        "  def insert(self, data):\n",
        "    if self.data:\n",
        "      if data<self.data:\n",
        "        \n",
        "        if self.left is None:\n",
        "          self.left = Node(data)\n",
        "        else:\n",
        "          self.left.insert(data)\n",
        "          \n",
        "      elif data>self.data:\n",
        "        \n",
        "        if self.right is None:\n",
        "          self.right = Node(data)\n",
        "        else:\n",
        "          self.right.insert(data)\n",
        "          \n",
        "    else:\n",
        "      self.data = data\n",
        "      \n",
        "      \n",
        "  def printTree(self):\n",
        "    if self.left:\n",
        "      self.left.printTree()\n",
        "    print(self.data)\n",
        "    if self.right:\n",
        "      self.right.printTree()\n",
        "      \n",
        "      \n",
        "root = Node(12)\n",
        "root.insert(4)\n",
        "root.insert(2)\n",
        "root.insert(8)\n",
        "root.insert(6)\n",
        "\n",
        "root.printTree()\n",
        "          "
      ],
      "execution_count": 2,
      "outputs": [
        {
          "output_type": "stream",
          "text": [
            "2\n",
            "4\n",
            "6\n",
            "8\n",
            "12\n"
          ],
          "name": "stdout"
        }
      ]
    },
    {
      "cell_type": "code",
      "metadata": {
        "id": "yLFWeP1xOZ6i"
      },
      "source": [
        ""
      ],
      "execution_count": 2,
      "outputs": []
    }
  ]
}