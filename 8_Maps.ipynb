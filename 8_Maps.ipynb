{
  "nbformat": 4,
  "nbformat_minor": 0,
  "metadata": {
    "colab": {
      "name": "8_Maps.ipynb",
      "provenance": [],
      "collapsed_sections": []
    },
    "kernelspec": {
      "name": "python3",
      "display_name": "Python 3"
    },
    "accelerator": "GPU"
  },
  "cells": [
    {
      "cell_type": "markdown",
      "metadata": {
        "id": "ka8OVrIMCxF8"
      },
      "source": [
        "Maps (ChainMap)\n",
        "- a type of data structure to manage multiple dictionaries together as one unit\n",
        "- contains the key and value pairs in a specific sequence eliminating duplicate keys\n",
        "\n",
        "Best use\n",
        "- to search through multiple dictionaries at a time and get the proper key-value pair mapping\n",
        "- they behave as a stack data structure"
      ]
    },
    {
      "cell_type": "markdown",
      "metadata": {
        "id": "-H_UX4amDIbi"
      },
      "source": [
        "Creating a ChainMap"
      ]
    },
    {
      "cell_type": "code",
      "metadata": {
        "id": "K2qcwb7tDMCf",
        "colab": {
          "base_uri": "https://localhost:8080/"
        },
        "outputId": "a1d408cd-6a8b-423c-9b16-db6e6d1bae57"
      },
      "source": [
        "import collections\n",
        "\n",
        "dict1 = {'day1':'Mon','day2':'Tue'}\n",
        "dict2 = {'day3':'Wed','day4':'Thu'}\n",
        "\n",
        "res = collections.ChainMap(dict1, dict2)\n",
        "\n",
        "#Creating a single dictionary\n",
        "print(res.maps, '\\n')"
      ],
      "execution_count": 1,
      "outputs": [
        {
          "output_type": "stream",
          "text": [
            "[{'day1': 'Mon', 'day2': 'Tue'}, {'day3': 'Wed', 'day4': 'Thu'}] \n",
            "\n"
          ],
          "name": "stdout"
        }
      ]
    },
    {
      "cell_type": "code",
      "metadata": {
        "id": "vq9uEpLrDd2V",
        "colab": {
          "base_uri": "https://localhost:8080/"
        },
        "outputId": "127898f3-8faa-4e56-ff17-9699e74cff66"
      },
      "source": [
        "print('Keys = {}'.format(list(res.keys())))\n",
        "print('Values = {}'.format(list(res.values())))\n",
        "print()"
      ],
      "execution_count": 2,
      "outputs": [
        {
          "output_type": "stream",
          "text": [
            "Keys = ['day4', 'day2', 'day3', 'day1']\n",
            "Values = ['Thu', 'Tue', 'Wed', 'Mon']\n",
            "\n"
          ],
          "name": "stdout"
        }
      ]
    },
    {
      "cell_type": "code",
      "metadata": {
        "id": "qRMByl7NDynk",
        "colab": {
          "base_uri": "https://localhost:8080/"
        },
        "outputId": "90126155-42ed-4507-9213-3243eb710937"
      },
      "source": [
        "#Print all the elements from the result\n",
        "print('Elements:')\n",
        "for key, val in res.items():\n",
        "  print('{} = {}'.format(key, val))\n",
        "print()"
      ],
      "execution_count": 3,
      "outputs": [
        {
          "output_type": "stream",
          "text": [
            "Elements:\n",
            "day4 = Thu\n",
            "day2 = Tue\n",
            "day3 = Wed\n",
            "day1 = Mon\n",
            "\n"
          ],
          "name": "stdout"
        }
      ]
    },
    {
      "cell_type": "code",
      "metadata": {
        "id": "Eaa6gGXUEBy0",
        "colab": {
          "base_uri": "https://localhost:8080/"
        },
        "outputId": "33d13bb0-4156-41e1-dc37-c96a0335d1ad"
      },
      "source": [
        "#Find a specific value in the result\n",
        "print('Day 3 in res: {}'.format(('day3' in res)))\n",
        "print('Day 4 in res: {}'.format(('day4' in res)))"
      ],
      "execution_count": 4,
      "outputs": [
        {
          "output_type": "stream",
          "text": [
            "Day 3 in res: True\n",
            "Day 4 in res: True\n"
          ],
          "name": "stdout"
        }
      ]
    },
    {
      "cell_type": "markdown",
      "metadata": {
        "id": "kAn9ezoKEVgu"
      },
      "source": [
        "Map Reordering\n",
        "- if we change the order of the dictionaries while clubbing them, the position of the elements get interchanged \n",
        "- shows that they behave like stacks"
      ]
    },
    {
      "cell_type": "code",
      "metadata": {
        "id": "HLc1jNkPERT8",
        "colab": {
          "base_uri": "https://localhost:8080/"
        },
        "outputId": "04d94db7-b803-4af3-c009-cf0036508570"
      },
      "source": [
        "import collections\n",
        "\n",
        "dictA = {'day1':'Mon', 'day2':'Tue', 'day3':'Wed'}\n",
        "dictB = {'day4':'Thur', 'day5':'Fri', 'day6':'Sat'}\n",
        "\n",
        "res1 = collections.ChainMap(dictA, dictB)\n",
        "print(res1.maps, '\\n')\n",
        "\n",
        "res2 = collections.ChainMap(dictB, dictA)\n",
        "print(res2.maps, '\\n')"
      ],
      "execution_count": 5,
      "outputs": [
        {
          "output_type": "stream",
          "text": [
            "[{'day1': 'Mon', 'day2': 'Tue', 'day3': 'Wed'}, {'day4': 'Thur', 'day5': 'Fri', 'day6': 'Sat'}] \n",
            "\n",
            "[{'day4': 'Thur', 'day5': 'Fri', 'day6': 'Sat'}, {'day1': 'Mon', 'day2': 'Tue', 'day3': 'Wed'}] \n",
            "\n"
          ],
          "name": "stdout"
        }
      ]
    },
    {
      "cell_type": "markdown",
      "metadata": {
        "id": "SVVZ-oxdE-2x"
      },
      "source": [
        "Updating map\n",
        "- elements can be updated without having to apply ChainMap again"
      ]
    },
    {
      "cell_type": "code",
      "metadata": {
        "id": "Y2gk5aQ8E82u",
        "colab": {
          "base_uri": "https://localhost:8080/"
        },
        "outputId": "8770628a-3467-46e8-8535-ee6ff16cefac"
      },
      "source": [
        "dictB['day4'] = 'Fri'\n",
        "\n",
        "print(res1.maps, '\\n')"
      ],
      "execution_count": 6,
      "outputs": [
        {
          "output_type": "stream",
          "text": [
            "[{'day1': 'Mon', 'day2': 'Tue', 'day3': 'Wed'}, {'day4': 'Fri', 'day5': 'Fri', 'day6': 'Sat'}] \n",
            "\n"
          ],
          "name": "stdout"
        }
      ]
    }
  ]
}