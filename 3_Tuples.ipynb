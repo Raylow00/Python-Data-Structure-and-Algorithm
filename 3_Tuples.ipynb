{
  "nbformat": 4,
  "nbformat_minor": 0,
  "metadata": {
    "colab": {
      "name": "3_Tuples.ipynb",
      "provenance": [],
      "collapsed_sections": []
    },
    "kernelspec": {
      "name": "python3",
      "display_name": "Python 3"
    },
    "accelerator": "GPU"
  },
  "cells": [
    {
      "cell_type": "markdown",
      "metadata": {
        "id": "XvIM7NjxvA3i"
      },
      "source": [
        "Tuple\n",
        "- a sequence of immutable Python objects\n",
        "- can have REPEATED elements\n",
        "- ordered\n",
        "- unlike lists, it cannot be changed\n",
        "- uses parentheses NOT brackets"
      ]
    },
    {
      "cell_type": "code",
      "metadata": {
        "id": "z94KjG94yqzA"
      },
      "source": [
        "tup1 = ('physics', 'chemistry', 1997, 2000)\n",
        "tup2 = (1,2,3,4,5)\n"
      ],
      "execution_count": 1,
      "outputs": []
    },
    {
      "cell_type": "markdown",
      "metadata": {
        "id": "WJBc9uwQyxz9"
      },
      "source": [
        "Accessing values in tuples\n"
      ]
    },
    {
      "cell_type": "code",
      "metadata": {
        "id": "RXFl2Qj6yzdc",
        "colab": {
          "base_uri": "https://localhost:8080/"
        },
        "outputId": "fa8af879-6578-47f0-fde6-4b3f969d5747"
      },
      "source": [
        "print(tup1[0])\n",
        "print(tup2[1:5])"
      ],
      "execution_count": 2,
      "outputs": [
        {
          "output_type": "stream",
          "text": [
            "physics\n",
            "(2, 3, 4, 5)\n"
          ],
          "name": "stdout"
        }
      ]
    },
    {
      "cell_type": "markdown",
      "metadata": {
        "id": "vQS7sAxqy6CP"
      },
      "source": [
        "Updating tuples"
      ]
    },
    {
      "cell_type": "code",
      "metadata": {
        "id": "rpGaZKkRy7Eo",
        "colab": {
          "base_uri": "https://localhost:8080/"
        },
        "outputId": "e8b04264-985d-402e-a4e7-3982bd3ff75c"
      },
      "source": [
        "tup3 = tup1 + tup2\n",
        "print(tup3)"
      ],
      "execution_count": 3,
      "outputs": [
        {
          "output_type": "stream",
          "text": [
            "('physics', 'chemistry', 1997, 2000, 1, 2, 3, 4, 5)\n"
          ],
          "name": "stdout"
        }
      ]
    },
    {
      "cell_type": "markdown",
      "metadata": {
        "id": "YSUtU25lzDvD"
      },
      "source": [
        "Delete tuple elements"
      ]
    },
    {
      "cell_type": "code",
      "metadata": {
        "id": "JcHrWJe9zFOs"
      },
      "source": [
        "tup1 = ('physics', 'chemistry', 1997, 2000)\n",
        "del tup1"
      ],
      "execution_count": 4,
      "outputs": []
    },
    {
      "cell_type": "markdown",
      "metadata": {
        "id": "opdEBx4NzNRo"
      },
      "source": [
        "Basic tuple operations:\n",
        "\n"
      ]
    },
    {
      "cell_type": "code",
      "metadata": {
        "id": "o0JYuV5uzaXp",
        "colab": {
          "base_uri": "https://localhost:8080/"
        },
        "outputId": "5411f4f3-ae73-4496-d2f2-8e9b054385d1"
      },
      "source": [
        "#Length\n",
        "len((1,2,3))\n",
        "\n",
        "#Concatenation\n",
        "(1,2,3) + (4,5,6)\n",
        "\n",
        "#Repetition\n",
        "('Hi!') *4\n",
        "\n",
        "#Membership\n",
        "3 in (1,2,3)\n",
        "\n",
        "#Iteration\n",
        "for x in (1,2,3):\n",
        "  print(x)"
      ],
      "execution_count": 5,
      "outputs": [
        {
          "output_type": "stream",
          "text": [
            "1\n",
            "2\n",
            "3\n"
          ],
          "name": "stdout"
        }
      ]
    }
  ]
}