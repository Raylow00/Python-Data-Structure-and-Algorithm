{
  "nbformat": 4,
  "nbformat_minor": 0,
  "metadata": {
    "colab": {
      "name": "15_Binary Search Tree.ipynb",
      "provenance": [],
      "collapsed_sections": []
    },
    "kernelspec": {
      "name": "python3",
      "display_name": "Python 3"
    },
    "accelerator": "GPU"
  },
  "cells": [
    {
      "cell_type": "markdown",
      "metadata": {
        "id": "K4hZpi-BSBOv"
      },
      "source": [
        "Binary search tree\n",
        "- where all the nodes follow the property:\n",
        "- left sub-tree (keys) <= node(key) <= right sub-tree(keys)"
      ]
    },
    {
      "cell_type": "markdown",
      "metadata": {
        "id": "Io-5p9i5SQ8V"
      },
      "source": [
        "Search for a value in BST"
      ]
    },
    {
      "cell_type": "code",
      "metadata": {
        "id": "2QpCE0D3SSsx",
        "colab": {
          "base_uri": "https://localhost:8080/"
        },
        "outputId": "d0f3bb50-01c6-4482-bec7-b27dec420d7f"
      },
      "source": [
        "class Node:\n",
        "  def __init__(self, data):\n",
        "    self.left = None\n",
        "    self.right = None\n",
        "    self.data = data\n",
        "    \n",
        "  def insert(self, data):\n",
        "    if self.data:\n",
        "      \n",
        "      if data < self.data:\n",
        "        if self.left is None:\n",
        "          self.left = Node(data)\n",
        "        else:\n",
        "          self.left.insert(data)\n",
        "      elif data > self.data:\n",
        "        if self.right is None:\n",
        "          self.right = Node(data)\n",
        "        else:\n",
        "          self.right.insert(data)\n",
        "    else:\n",
        "      self.data = data\n",
        "      \n",
        "      \n",
        "  def findval(self, lookup):\n",
        "    if lookup < self.data:\n",
        "      if self.left is None:\n",
        "        return(str(lookup) + ' is not found')\n",
        "      return self.left.findval(lookup)\n",
        "    elif lookup > self.data:\n",
        "      if self.right is None:\n",
        "        return(str(lookup) + ' is not found')\n",
        "      return self.right.findval(lookup)\n",
        "    else:\n",
        "      print(str(lookup) + ' is found')\n",
        "      \n",
        "  def printTree(self):\n",
        "    if self.left:\n",
        "      self.left.printTree()\n",
        "    print(self.data)\n",
        "    if self.right:\n",
        "      self.right.printTree()\n",
        "      \n",
        "root = Node(12)\n",
        "root.insert(10)\n",
        "root.insert(6)\n",
        "root.insert(24)\n",
        "\n",
        "print(root.findval(6))\n",
        "print(root.findval(9))"
      ],
      "execution_count": 1,
      "outputs": [
        {
          "output_type": "stream",
          "text": [
            "6 is found\n",
            "None\n",
            "9 is not found\n"
          ],
          "name": "stdout"
        }
      ]
    }
  ]
}