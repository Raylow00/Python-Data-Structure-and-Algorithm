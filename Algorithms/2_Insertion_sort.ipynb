{
  "nbformat": 4,
  "nbformat_minor": 0,
  "metadata": {
    "colab": {
      "name": "2_Insertion sort.ipynb",
      "provenance": [],
      "collapsed_sections": []
    },
    "kernelspec": {
      "name": "python3",
      "display_name": "Python 3"
    },
    "accelerator": "GPU"
  },
  "cells": [
    {
      "cell_type": "code",
      "metadata": {
        "id": "Dd_YuJNIu6EU",
        "colab": {
          "base_uri": "https://localhost:8080/",
          "height": 35
        },
        "outputId": "bd2fb233-d45b-4a64-a306-0fe18a344aef"
      },
      "source": [
        "#Ascending order\n",
        "def insertionSort(array):\n",
        "  for step in range(1, len(array)):\n",
        "    key = array[step]\n",
        "    j = step-1\n",
        "    while j>=0 and key < array[j]:\n",
        "      array[j+1] = array[j]\n",
        "      #compare with the elements at the front\n",
        "      j = j-1\n",
        "    #then set a new key\n",
        "    array[j+1] = key\n",
        "    \n",
        "data = [9,1, 4, 76, 3]\n",
        "insertionSort(data)\n",
        "print(data)"
      ],
      "execution_count": null,
      "outputs": [
        {
          "output_type": "stream",
          "text": [
            "[1, 3, 4, 9, 76]\n"
          ],
          "name": "stdout"
        }
      ]
    },
    {
      "cell_type": "code",
      "metadata": {
        "id": "pwtRNtf1yMI5",
        "colab": {
          "base_uri": "https://localhost:8080/",
          "height": 35
        },
        "outputId": "cb4cd856-e04f-412c-da2f-e7b720fd7511"
      },
      "source": [
        "#Descending order\n",
        "def insertionSort2(array):\n",
        "  for step in range(1, len(array)):\n",
        "    key = array[step]\n",
        "    j = step-1\n",
        "    while j>=0 and key > array[j]:\n",
        "      array[j+1] = array[j]\n",
        "      j=j-1\n",
        "    array[j+1] = key\n",
        "    \n",
        "data = [65, 43, 2, 12, 45]\n",
        "insertionSort2(data)\n",
        "print(data)"
      ],
      "execution_count": null,
      "outputs": [
        {
          "output_type": "stream",
          "text": [
            "[65, 45, 43, 12, 2]\n"
          ],
          "name": "stdout"
        }
      ]
    },
    {
      "cell_type": "markdown",
      "metadata": {
        "id": "AqRXPv-zysuy"
      },
      "source": [
        "Time complexities\n",
        "\n",
        "1. Worst case O(n2)\n",
        "- Suppose an array is in ascending order, and you want to sort according to descending order\n",
        "- (n-1) number of comparisons have to be made\n",
        "\n",
        "2. Best case O(n)\n",
        "- array is already sorted, where only outer loop runs for n number of times, and inner loop doesn't run at all\n",
        "\n",
        "3. Average case O(n2)\n",
        "- when elements of an array are in jumbled order"
      ]
    },
    {
      "cell_type": "markdown",
      "metadata": {
        "id": "ds8tL4OAzPT6"
      },
      "source": [
        "Space complexity\n",
        "O(1) - variable key is used"
      ]
    },
    {
      "cell_type": "code",
      "metadata": {
        "id": "VPUCMfjwyrP5"
      },
      "source": [
        ""
      ],
      "execution_count": null,
      "outputs": []
    }
  ]
}