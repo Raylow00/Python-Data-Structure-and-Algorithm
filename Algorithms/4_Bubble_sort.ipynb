{
  "nbformat": 4,
  "nbformat_minor": 0,
  "metadata": {
    "colab": {
      "name": "4_Bubble sort.ipynb",
      "provenance": [],
      "collapsed_sections": []
    },
    "kernelspec": {
      "name": "python3",
      "display_name": "Python 3"
    },
    "accelerator": "GPU"
  },
  "cells": [
    {
      "cell_type": "markdown",
      "metadata": {
        "id": "75j0CCGr3OA8"
      },
      "source": [
        "1. Starting from the first index, compare the first and second elements. If the first element is greater than the second element, swap them. Process goes on.\n",
        "2. Same goes for remaining iterations\n"
      ]
    },
    {
      "cell_type": "code",
      "metadata": {
        "id": "FnJw6snO3h7n",
        "colab": {
          "base_uri": "https://localhost:8080/",
          "height": 35
        },
        "outputId": "47ca50fe-800a-4888-ae36-ea3a5c89cea3"
      },
      "source": [
        "def bubbleSort(array):\n",
        "  for i in range(len(array)):\n",
        "    #you do not minus i since i does not start from 1, i starts from 0\n",
        "    for j in range(0, len(array)-i-1):\n",
        "      if array[j] > array[j+1]:\n",
        "        array[j], array[j+1] = array[j+1], array[j]\n",
        "  \n",
        "  \n",
        "data = [-2, 45, 0, 11, -9]\n",
        "bubbleSort(data)\n",
        "print(data)\n",
        "        "
      ],
      "execution_count": null,
      "outputs": [
        {
          "output_type": "stream",
          "text": [
            "[-9, -2, 0, 11, 45]\n"
          ],
          "name": "stdout"
        }
      ]
    },
    {
      "cell_type": "code",
      "metadata": {
        "id": "miCMrj414Ecf",
        "colab": {
          "base_uri": "https://localhost:8080/",
          "height": 35
        },
        "outputId": "da0e7a1f-d302-4ec9-c230-3a803a58ef36"
      },
      "source": [
        "#Optimized\n",
        "\n",
        "def bubbleSort_optimized(array):\n",
        "  #iterate for all the elements in the array\n",
        "  for i in range(len(array)):\n",
        "    swapped = True\n",
        "    for j in range(0, len(array)-i-1):\n",
        "      if array[j] > array[j+1]:\n",
        "        array[j], array[j+1] = array[j+1], array[j]\n",
        "        swapped = False\n",
        "        if swapped == True:\n",
        "          break\n",
        "          \n",
        "\n",
        "data2 = [-2,45 ,23 , 54,12, 6]\n",
        "bubbleSort_optimized(data2)\n",
        "print(data2)\n"
      ],
      "execution_count": null,
      "outputs": [
        {
          "output_type": "stream",
          "text": [
            "[-2, 6, 12, 23, 45, 54]\n"
          ],
          "name": "stdout"
        }
      ]
    },
    {
      "cell_type": "markdown",
      "metadata": {
        "id": "-r4PRtun5yUb"
      },
      "source": [
        "Complexity:\n",
        "- Since 2 loops:\n",
        "  - complexity = O(n^2)\n",
        "  \n",
        "Best case:\n",
        "- O(n) - when it is already sorted\n",
        "\n",
        "Worse and average case:\n",
        "- O(n^2)\n",
        "\n",
        "Space complexity:\n",
        "- O(1) - variable temp is used for swapping\n",
        "- O(2) - extra variable swapped \n",
        "\n",
        "Applications:\n",
        "- short code preferred"
      ]
    },
    {
      "cell_type": "code",
      "metadata": {
        "id": "uYL3pO6w4tMS"
      },
      "source": [
        ""
      ],
      "execution_count": null,
      "outputs": []
    }
  ]
}