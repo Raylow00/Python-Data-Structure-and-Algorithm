{
  "nbformat": 4,
  "nbformat_minor": 0,
  "metadata": {
    "colab": {
      "name": "1_Algorithm Analysis.ipynb",
      "provenance": [],
      "collapsed_sections": []
    },
    "kernelspec": {
      "name": "python3",
      "display_name": "Python 3"
    }
  },
  "cells": [
    {
      "cell_type": "markdown",
      "metadata": {
        "id": "4W8KtxsHqrkQ"
      },
      "source": [
        "Algorithm complexity\n",
        "- time factor\n",
        "  - counting the number of key operations such as comparisons in the sorting algorithm\n",
        "- space factor\n",
        "  - counting the maximum memory space required by the algorithm"
      ]
    },
    {
      "cell_type": "markdown",
      "metadata": {
        "id": "76v7VQDgq8DU"
      },
      "source": [
        "Space complexity\n",
        "- represents the amount of memory space required by the algorithm in its life cycle\n",
        "\n",
        "- a fixed part\n",
        "  - space required to store certain data and variables\n",
        "- a variable part\n",
        "  - space required by variables whose size depend on the size of problem\n",
        "  \n",
        "  \n",
        "Space complexity S(p) of any algorithm p is S(p) = C + Sp(I), where C is the fixed part and Sp(I) is the variable part"
      ]
    },
    {
      "cell_type": "markdown",
      "metadata": {
        "id": "FncNpsaPre7A"
      },
      "source": [
        "Time complexity\n",
        "- represents the amount of time required by the algorithm to run to completion\n",
        "- defined as numerical function measured as the number of steps"
      ]
    },
    {
      "cell_type": "markdown",
      "metadata": {
        "id": "PidlDJbstjsZ"
      },
      "source": [
        "Theta notation\n",
        "- represents the upper and lower bound of the running time of an algorithm\n",
        "- used for analyzing the average case complexity of an algorithm![alt text](https://cdn.programiz.com/sites/tutorial2program/files/theta.png)"
      ]
    },
    {
      "cell_type": "markdown",
      "metadata": {
        "id": "dpi7cjLhtwDR"
      },
      "source": [
        "Big-O notation\n",
        "- represents the upper bound of the running time of an algorithm\n",
        "- gives the worst case complexity of an algorithm![alt text](https://cdn.programiz.com/sites/tutorial2program/files/big0.png)"
      ]
    },
    {
      "cell_type": "markdown",
      "metadata": {
        "id": "DWlQEXx2t7mo"
      },
      "source": [
        "Omega notation\n",
        "- represents the lower bound of the running time of an algorithm\n",
        "- gives the best case complexity of an algorithm![alt text](https://cdn.programiz.com/sites/tutorial2program/files/omega.png)"
      ]
    }
  ]
}