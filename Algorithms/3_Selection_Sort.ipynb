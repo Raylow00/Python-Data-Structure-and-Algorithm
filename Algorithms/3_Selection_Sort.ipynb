{
  "nbformat": 4,
  "nbformat_minor": 0,
  "metadata": {
    "colab": {
      "name": "3_Selection Sort.ipynb",
      "provenance": []
    },
    "kernelspec": {
      "name": "python3",
      "display_name": "Python 3"
    },
    "accelerator": "GPU"
  },
  "cells": [
    {
      "cell_type": "markdown",
      "metadata": {
        "id": "ZMXHv6zRzfjV"
      },
      "source": [
        "1. Set the first element as minimum\n",
        "2. Compare the minimum with the second element, if second element is smaller than minimum, assign second element as minimum.\n",
        "Process goes on until the last element.\n",
        "3. After each comparison, the minimum is placed at the front of the unsorted list\n",
        "4. For each iteration, indexing starts from the first unsorted element. Repeat until all are correctly placed\n"
      ]
    },
    {
      "cell_type": "code",
      "metadata": {
        "id": "TpaJgH_p0eME",
        "colab": {
          "base_uri": "https://localhost:8080/",
          "height": 35
        },
        "outputId": "2275abc4-d374-4af1-aa42-f876e4b0de1c"
      },
      "source": [
        "def selectionSort(array, size):\n",
        "  #for each element in the array\n",
        "  for step in range(size):\n",
        "    #we set the first element as the minimum first, then go onto other \n",
        "    min_idx = step\n",
        "    #then we compare the minimum to the rest of the array\n",
        "    for i in range(step+1, size):\n",
        "      #if elements in the rest of the array is smaller than the minimum\n",
        "      if array[i] < array[min_idx]:\n",
        "        #then set the minimum index as the position of the element\n",
        "        min_idx = i\n",
        "    #then we swap the element at ORIGINAL minimum to the current minimum\n",
        "    array[step], array[min_idx] = array[min_idx], array[step]\n",
        "    \n",
        "data = [-2, 45, 9, 11, -9]\n",
        "size = len(data)\n",
        "selectionSort(data, size)\n",
        "print(data)"
      ],
      "execution_count": null,
      "outputs": [
        {
          "output_type": "stream",
          "text": [
            "[-9, -2, 9, 11, 45]\n"
          ],
          "name": "stdout"
        }
      ]
    },
    {
      "cell_type": "markdown",
      "metadata": {
        "id": "FXVmz9MY2jey"
      },
      "source": [
        "Complexity:\n",
        "\n",
        "Observing the number of loops, there are 2 loops\n",
        "- complexity = n^2\n",
        "\n",
        "Space complexity:\n",
        "- O(1) - variable temp is used for swapping\n",
        "\n",
        "Applications:\n",
        "- cost of swapping does not matter\n"
      ]
    },
    {
      "cell_type": "code",
      "metadata": {
        "id": "AM8LjKgd1Bqn"
      },
      "source": [
        ""
      ],
      "execution_count": null,
      "outputs": []
    }
  ]
}