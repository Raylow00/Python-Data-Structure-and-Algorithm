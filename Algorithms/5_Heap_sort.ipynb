{
  "nbformat": 4,
  "nbformat_minor": 0,
  "metadata": {
    "colab": {
      "name": "5_Heap sort.ipynb",
      "provenance": [],
      "collapsed_sections": []
    },
    "kernelspec": {
      "name": "python3",
      "display_name": "Python 3"
    },
    "accelerator": "GPU"
  },
  "cells": [
    {
      "cell_type": "code",
      "metadata": {
        "id": "8U0PhePQKa7r",
        "colab": {
          "base_uri": "https://localhost:8080/",
          "height": 144
        },
        "outputId": "9c5a755f-a93c-41d1-e4e9-d7bddb6e9374"
      },
      "source": [
        "def heapify(arr, n, i):\n",
        "  #Find the largest among the root and children\n",
        "  largest = i\n",
        "  left = 2*i + 1\n",
        "  right = 2*i + 2\n",
        "  if left < n and arr[i] < arr[left]:\n",
        "    largest = left\n",
        "  if right < n and arr[largest] < arr[right]:\n",
        "    largest = right\n",
        "    \n",
        "  #if root is not the largest, swap with largest and continue heapifying\n",
        "  if largest != i:\n",
        "    arr[i], arr[largest] = arr[largest], arr[i]\n",
        "    heapify(arr, n, largest)\n",
        "\n",
        "def heapSort(arr):\n",
        "  n = len(arr)\n",
        "  \n",
        "  #Build max heap\n",
        "  for i in range(n, 0, -1):\n",
        "    heapify(arr, n, i)\n",
        "    \n",
        "  for i in range(n-1, 0, -1):\n",
        "    #swap\n",
        "    arr[i], arr[0] = arr[0], arr[i]\n",
        "    \n",
        "    #heapify the root element\n",
        "    heapify(arr, i, 0)\n",
        "    \n",
        "arr = [12,11,13, 56, 7, 3]\n",
        "heapSort(arr)\n",
        "n = len(arr)\n",
        "print(\"Sorted array is \")\n",
        "for i in range(n):\n",
        "  print(\"%d\" %arr[i])"
      ],
      "execution_count": null,
      "outputs": [
        {
          "output_type": "stream",
          "text": [
            "Sorted array is \n",
            "3\n",
            "7\n",
            "11\n",
            "13\n",
            "56\n",
            "12\n"
          ],
          "name": "stdout"
        }
      ]
    },
    {
      "cell_type": "code",
      "metadata": {
        "id": "cl_plHLYLrD-"
      },
      "source": [
        ""
      ],
      "execution_count": null,
      "outputs": []
    }
  ]
}