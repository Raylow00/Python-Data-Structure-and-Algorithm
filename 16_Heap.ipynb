{
  "nbformat": 4,
  "nbformat_minor": 0,
  "metadata": {
    "colab": {
      "name": "16_Heap.ipynb",
      "provenance": [],
      "collapsed_sections": []
    },
    "kernelspec": {
      "name": "python3",
      "display_name": "Python 3"
    },
    "accelerator": "GPU"
  },
  "cells": [
    {
      "cell_type": "markdown",
      "metadata": {
        "id": "W2Rtr5dRUxP-"
      },
      "source": [
        "Heap\n",
        "- each parent node is less than or equal to its child => MIN HEAP\n",
        "- each parent node is greater than or equal to its child => MAX HEAP\n"
      ]
    },
    {
      "cell_type": "markdown",
      "metadata": {
        "id": "ISvCNgCOU_m7"
      },
      "source": [
        "Creating a heap\n",
        "- created using Python's inbuilt library named heapq\n",
        "\n",
        "functions:\n",
        "- heapify\n",
        "  - converts a regular list to a heap, where the smallest element gets pushed to the index position 0, but the rest are not sorted\n",
        "\n",
        "- heappush\n",
        "  - adds an element to the heap without altering the current heap\n",
        "  \n",
        "- heappop\n",
        "  - returns the smallest data element from the heap\n",
        "  \n",
        "- heapreplace\n",
        "  - replaces the smallest data element with a new value supplied in the function\n",
        "  \n",
        "  "
      ]
    },
    {
      "cell_type": "code",
      "metadata": {
        "id": "dJCzju2GVAm3",
        "colab": {
          "base_uri": "https://localhost:8080/"
        },
        "outputId": "535273b4-c2f3-46b9-fdf6-a48833fcf567"
      },
      "source": [
        "import heapq\n",
        "\n",
        "H = [21, 1, 45, 78, 3, 5]\n",
        "\n",
        "heapq.heapify(H)\n",
        "print(H)"
      ],
      "execution_count": 1,
      "outputs": [
        {
          "output_type": "stream",
          "text": [
            "[1, 3, 5, 78, 21, 45]\n"
          ],
          "name": "stdout"
        }
      ]
    },
    {
      "cell_type": "markdown",
      "metadata": {
        "id": "YtDDSl8EV1ob"
      },
      "source": [
        "Inserting into a heap\n",
        "- always adds the element at the last index"
      ]
    },
    {
      "cell_type": "code",
      "metadata": {
        "id": "suYrMNd0VsRo",
        "colab": {
          "base_uri": "https://localhost:8080/"
        },
        "outputId": "1d282887-13e6-4f98-f1e0-1601cb387a87"
      },
      "source": [
        "import heapq\n",
        "\n",
        "H = [21,2,45,78,3,5]\n",
        "heapq.heapify(H)\n",
        "print(H)\n",
        "\n",
        "heapq.heappush(H, 1)\n",
        "print(H)"
      ],
      "execution_count": 2,
      "outputs": [
        {
          "output_type": "stream",
          "text": [
            "[2, 3, 5, 78, 21, 45]\n",
            "[1, 3, 2, 78, 21, 45, 5]\n"
          ],
          "name": "stdout"
        }
      ]
    },
    {
      "cell_type": "markdown",
      "metadata": {
        "id": "9KWfxxLVWJeI"
      },
      "source": [
        "Removing from heap\n",
        "- removing the first index using heappop()"
      ]
    },
    {
      "cell_type": "code",
      "metadata": {
        "id": "xIzZA6tJWD0_",
        "colab": {
          "base_uri": "https://localhost:8080/"
        },
        "outputId": "a841b67e-712b-4bc0-bcee-d07d3ee03ff7"
      },
      "source": [
        "import heapq\n",
        "\n",
        "H = [21,2,45,78,3,5]\n",
        "heapq.heapify(H)\n",
        "print(H)\n",
        "\n",
        "heapq.heappop(H)\n",
        "print(H)"
      ],
      "execution_count": 3,
      "outputs": [
        {
          "output_type": "stream",
          "text": [
            "[2, 3, 5, 78, 21, 45]\n",
            "[3, 21, 5, 78, 45]\n"
          ],
          "name": "stdout"
        }
      ]
    },
    {
      "cell_type": "markdown",
      "metadata": {
        "id": "YnjEAhBQWXQ_"
      },
      "source": [
        "Replacing in a heap\n",
        "- removes the smallest element of the heap and inserts new element"
      ]
    },
    {
      "cell_type": "code",
      "metadata": {
        "id": "gO-JzUl_WVTB",
        "colab": {
          "base_uri": "https://localhost:8080/"
        },
        "outputId": "7cb048e5-bea6-43c8-8b7d-73885e1902ed"
      },
      "source": [
        "import heapq\n",
        "\n",
        "H = [34, 25, 2, 45, 78]\n",
        "heapq.heapify(H)\n",
        "\n",
        "heapq.heapreplace(H, 6)\n",
        "print(H)"
      ],
      "execution_count": 4,
      "outputs": [
        {
          "output_type": "stream",
          "text": [
            "[6, 25, 34, 45, 78]\n"
          ],
          "name": "stdout"
        }
      ]
    }
  ]
}