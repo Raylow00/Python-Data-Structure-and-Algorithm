{
  "nbformat": 4,
  "nbformat_minor": 0,
  "metadata": {
    "colab": {
      "name": "17_Graphs.ipynb",
      "provenance": [],
      "collapsed_sections": []
    },
    "kernelspec": {
      "name": "python3",
      "display_name": "Python 3"
    },
    "accelerator": "GPU"
  },
  "cells": [
    {
      "cell_type": "markdown",
      "metadata": {
        "id": "bzsJjrHiXdrA"
      },
      "source": [
        "Graph\n",
        "- pictorial representation of a set of objects where some pairs of objects are connected by links\n",
        "- interconnected objects are represented by points termed as VERTICES , and the links that connect the vertices are called EDGES\n",
        "\n",
        "Basic operations:\n",
        "- display graph vertices\n",
        "- display graph edges\n",
        "- add a vertex\n",
        "- add an edge\n",
        "- creating a graph\n",
        "\n",
        "Graph can be represented using Python dictionary types, VERTICES represented by KEYS, and the CONNECTIONS as the VALUES\n"
      ]
    },
    {
      "cell_type": "markdown",
      "metadata": {
        "id": "RRmchq3eYDB4"
      },
      "source": [
        "![alt text](https://www.tutorialspoint.com/data_structures_algorithms/images/graph_basics.jpg)"
      ]
    },
    {
      "cell_type": "markdown",
      "metadata": {
        "id": "Msx9RzoTYLIW"
      },
      "source": [
        "V = {a, b, c, d, e}\n",
        "E = {ab, ac, bd, cd, de}"
      ]
    },
    {
      "cell_type": "code",
      "metadata": {
        "id": "DUpelZCxYKH-",
        "colab": {
          "base_uri": "https://localhost:8080/"
        },
        "outputId": "8c4bda4a-551e-45ff-cf94-f95b0f871c17"
      },
      "source": [
        "graph = {\"a\": [\"b\",\"c\"],\n",
        "         \"b\": [\"a\",\"d\"],\n",
        "         \"c\": [\"a\",\"d\"],\n",
        "         \"d\": [\"e\"],\n",
        "         \"e\": [\"d\"]\n",
        "        }\n",
        "\n",
        "print(graph)"
      ],
      "execution_count": 1,
      "outputs": [
        {
          "output_type": "stream",
          "text": [
            "{'a': ['b', 'c'], 'b': ['a', 'd'], 'c': ['a', 'd'], 'd': ['e'], 'e': ['d']}\n"
          ],
          "name": "stdout"
        }
      ]
    },
    {
      "cell_type": "markdown",
      "metadata": {
        "id": "ikmHFddsY0YF"
      },
      "source": [
        "Display graph vertices"
      ]
    },
    {
      "cell_type": "code",
      "metadata": {
        "id": "bGsqKwGeY3F8",
        "colab": {
          "base_uri": "https://localhost:8080/"
        },
        "outputId": "fb35655c-84ae-438a-fe4e-f5d8a684c434"
      },
      "source": [
        "class graph:\n",
        "  def __init__(self, gdict=None):\n",
        "    if gdict is None:\n",
        "      gdict = []\n",
        "    self.gdict = gdict\n",
        "    \n",
        "  def getVertices(self):\n",
        "    return list(self.gdict.keys())\n",
        "  \n",
        "graph1 = {\"a\": [\"b\",\"c\"],\n",
        "          \"b\": [\"a\",\"d\"],\n",
        "          \"c\": [\"a\",\"d\"],\n",
        "          \"d\": [\"e\"],\n",
        "          \"e\": [\"d\"]  \n",
        "}\n",
        "\n",
        "g = graph(graph1)\n",
        "\n",
        "print(g.getVertices())"
      ],
      "execution_count": 2,
      "outputs": [
        {
          "output_type": "stream",
          "text": [
            "['a', 'b', 'c', 'd', 'e']\n"
          ],
          "name": "stdout"
        }
      ]
    },
    {
      "cell_type": "markdown",
      "metadata": {
        "id": "EoDLVYqtZfcc"
      },
      "source": [
        "Display graph edges"
      ]
    },
    {
      "cell_type": "code",
      "metadata": {
        "id": "RfrngBjjYlul",
        "colab": {
          "base_uri": "https://localhost:8080/"
        },
        "outputId": "67210168-202f-41d6-f61f-6c48cf0af6fa"
      },
      "source": [
        "class graph:\n",
        "  def __init__(self, gdict=None):\n",
        "    if gdict is None:\n",
        "      gdict={}\n",
        "    self.gdict = gdict\n",
        "    \n",
        "  def edges(self):\n",
        "    return self.findedges()\n",
        "  \n",
        "  def findedges(self):\n",
        "    edgename = []\n",
        "    for vrtx in self.gdict:\n",
        "      for nextvrtx in self.gdict[vrtx]:\n",
        "        if {nextvrtx, vrtx} not in edgename:\n",
        "          edgename.append({vrtx, nextvrtx})\n",
        "    return edgename\n",
        "  \n",
        "graph_elements = {\"a\": [\"b\",\"c\"],\n",
        "                  \"b\": [\"a\",\"d\"],\n",
        "                  \"c\": [\"a\",\"d\"],\n",
        "                  \"d\": [\"e\"],\n",
        "                  \"e\": [\"d\"]    \n",
        "}\n",
        "\n",
        "graph1 = graph(graph_elements)\n",
        "\n",
        "print(graph1.edges())\n",
        "      "
      ],
      "execution_count": 3,
      "outputs": [
        {
          "output_type": "stream",
          "text": [
            "[{'a', 'b'}, {'a', 'c'}, {'d', 'b'}, {'d', 'c'}, {'d', 'e'}]\n"
          ],
          "name": "stdout"
        }
      ]
    },
    {
      "cell_type": "markdown",
      "metadata": {
        "id": "UgrZL9tkamrc"
      },
      "source": [
        "Adding a vertex"
      ]
    },
    {
      "cell_type": "code",
      "metadata": {
        "id": "HU6GHVMkaWwp",
        "colab": {
          "base_uri": "https://localhost:8080/"
        },
        "outputId": "06869f5b-5209-46fb-bf3f-430004c6cb54"
      },
      "source": [
        "class graph:\n",
        "  def __init__(self, gdict=None):\n",
        "    if gdict is None:\n",
        "      gdict = {}\n",
        "    self.gdict = gdict\n",
        "    \n",
        "  def getVertices(self):\n",
        "    return list(self.gdict.keys())\n",
        "  \n",
        "  def addVertex(self, vertex):\n",
        "    if vertex not in self.gdict:\n",
        "      self.gdict[vertex] = []\n",
        "      \n",
        "graph_elements = {\"a\": [\"b\",\"c\"],\n",
        "                  \"b\": [\"a\",\"d\"],\n",
        "                  \"c\": [\"a\",\"d\"],\n",
        "                  \"d\": [\"e\"],\n",
        "                  \"e\": [\"d\"] \n",
        "                 }\n",
        "\n",
        "graph1 = graph(graph_elements)\n",
        "\n",
        "graph1.addVertex('f')\n",
        "\n",
        "print(graph1.getVertices())"
      ],
      "execution_count": 4,
      "outputs": [
        {
          "output_type": "stream",
          "text": [
            "['a', 'b', 'c', 'd', 'e', 'f']\n"
          ],
          "name": "stdout"
        }
      ]
    },
    {
      "cell_type": "markdown",
      "metadata": {
        "id": "nAf_u8jdbKlw"
      },
      "source": [
        "Adding an edge"
      ]
    },
    {
      "cell_type": "code",
      "metadata": {
        "id": "bo4wJf_HbHy9",
        "colab": {
          "base_uri": "https://localhost:8080/"
        },
        "outputId": "f4d59e3e-c790-4054-f505-b9f8bb6d70ad"
      },
      "source": [
        "class graph:\n",
        "  def __init__(self, gdict=None):\n",
        "    if gdict is None:\n",
        "      gdict = {}\n",
        "    self.gdict = gdict\n",
        "    \n",
        "  def edges(self):\n",
        "    return self.findedges()\n",
        "  \n",
        "  def addEdge(self, edge):\n",
        "    edge = set(edge)\n",
        "    (vrtx1, vrtx2) = tuple(edge)\n",
        "    if vrtx1 in self.gdict:\n",
        "      self.gdict[vrtx1].append(vrtx2)\n",
        "    else:\n",
        "      self.gdict[vrtx1] = [vrtx2]\n",
        "      \n",
        "  def findedges(self):\n",
        "    edgename=[]\n",
        "    for vrtx in self.gdict:\n",
        "      for nextvrtx in self.gdict[vrtx]:\n",
        "        if {nextvrtx, vrtx} not in edgename:\n",
        "          edgename.append({vrtx, nextvrtx})\n",
        "    return edgename\n",
        "  \n",
        "graph_elements = {\"a\": [\"b\",\"c\"],\n",
        "                  \"b\": [\"a\",\"d\"],\n",
        "                  \"c\": [\"a\",\"d\"],\n",
        "                  \"d\": [\"e\"],\n",
        "                  \"e\": [\"d\"] \n",
        "                 }\n",
        "\n",
        "graph1 = graph(graph_elements)\n",
        "\n",
        "graph1.addEdge({'a', 'e'})\n",
        "graph1.addEdge({'a','c'})\n",
        "\n",
        "print(graph1.edges())"
      ],
      "execution_count": 5,
      "outputs": [
        {
          "output_type": "stream",
          "text": [
            "[{'a', 'b'}, {'a', 'c'}, {'d', 'b'}, {'d', 'c'}, {'d', 'e'}, {'e', 'a'}]\n"
          ],
          "name": "stdout"
        }
      ]
    }
  ]
}