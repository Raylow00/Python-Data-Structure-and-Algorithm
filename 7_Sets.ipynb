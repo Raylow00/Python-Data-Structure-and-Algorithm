{
  "nbformat": 4,
  "nbformat_minor": 0,
  "metadata": {
    "colab": {
      "name": "7_Sets.ipynb",
      "provenance": [],
      "collapsed_sections": []
    },
    "kernelspec": {
      "name": "python3",
      "display_name": "Python 3"
    },
    "accelerator": "GPU"
  },
  "cells": [
    {
      "cell_type": "markdown",
      "metadata": {
        "id": "qhGPb89PAI-H"
      },
      "source": [
        "Sets\n",
        "- elements in a set CANNOT BE DUPLICATES\n",
        "- immutable\n",
        "- unordered\n",
        "- no index attached - hence no indexing / slicing"
      ]
    },
    {
      "cell_type": "markdown",
      "metadata": {
        "id": "TUpwFg2oAWov"
      },
      "source": [
        "Creating a set\n",
        "- can use set() method\n",
        "- or placing elements in a pair of curly braces"
      ]
    },
    {
      "cell_type": "code",
      "metadata": {
        "id": "YxUp4YU4AWHp",
        "colab": {
          "base_uri": "https://localhost:8080/"
        },
        "outputId": "bb7701d4-4313-4b37-849c-f24e229525f5"
      },
      "source": [
        "days = set(['Mon','Tue', 'Wed', 'Thur', 'Fri', 'Sat', 'Sun'])\n",
        "months = {'Jan', 'Feb', 'Mar'}\n",
        "dates = {21,22,17}\n",
        "print(days)\n",
        "print(months)\n",
        "print(dates)"
      ],
      "execution_count": 1,
      "outputs": [
        {
          "output_type": "stream",
          "text": [
            "{'Fri', 'Thur', 'Wed', 'Mon', 'Sun', 'Tue', 'Sat'}\n",
            "{'Mar', 'Feb', 'Jan'}\n",
            "{17, 21, 22}\n"
          ],
          "name": "stdout"
        }
      ]
    },
    {
      "cell_type": "markdown",
      "metadata": {
        "id": "PB1abtKcA4pp"
      },
      "source": [
        "Accessing values in a set\n",
        "- We cannot access individual values in a set"
      ]
    },
    {
      "cell_type": "markdown",
      "metadata": {
        "id": "9-z-LbitA-Qt"
      },
      "source": [
        "Adding items to a set\n",
        "- using add()"
      ]
    },
    {
      "cell_type": "code",
      "metadata": {
        "id": "YfTOxSCpBBRX",
        "colab": {
          "base_uri": "https://localhost:8080/"
        },
        "outputId": "5246cd82-943f-43ee-b0b9-07de716e746c"
      },
      "source": [
        "days.add('GreenDay')\n",
        "print(days)"
      ],
      "execution_count": 2,
      "outputs": [
        {
          "output_type": "stream",
          "text": [
            "{'GreenDay', 'Fri', 'Thur', 'Wed', 'Mon', 'Sun', 'Tue', 'Sat'}\n"
          ],
          "name": "stdout"
        }
      ]
    },
    {
      "cell_type": "markdown",
      "metadata": {
        "id": "3b8yPJtqBIQR"
      },
      "source": [
        "Union of sets\n",
        "- The union operation on two sets produces a new set containing all the distinct elements from both sets"
      ]
    },
    {
      "cell_type": "code",
      "metadata": {
        "id": "bzw6dG3MBPLg",
        "colab": {
          "base_uri": "https://localhost:8080/"
        },
        "outputId": "68359c1b-6a1b-4607-b44b-8558024179e7"
      },
      "source": [
        "DaysA = set(['Mon', 'Tue', 'Wed'])\n",
        "DaysB = set(['Thur', 'Fri', 'Sat'])\n",
        "alldays = DaysA|DaysB\n",
        "print(alldays)"
      ],
      "execution_count": 3,
      "outputs": [
        {
          "output_type": "stream",
          "text": [
            "{'Wed', 'Mon', 'Tue', 'Fri', 'Sat', 'Thur'}\n"
          ],
          "name": "stdout"
        }
      ]
    },
    {
      "cell_type": "markdown",
      "metadata": {
        "id": "WqiXmQmnBdyX"
      },
      "source": [
        "Intersection of sets\n",
        "- containing only the common elements from both sets"
      ]
    },
    {
      "cell_type": "code",
      "metadata": {
        "id": "MMy-qOM9BGu9",
        "colab": {
          "base_uri": "https://localhost:8080/"
        },
        "outputId": "c3cdb6a0-a715-4354-ae8c-5e7e20697011"
      },
      "source": [
        "DaysC = set(['Mon', 'Sun', 'Wed', 'Thurs'])\n",
        "alldays2 = DaysA & DaysC\n",
        "print(alldays2)"
      ],
      "execution_count": 4,
      "outputs": [
        {
          "output_type": "stream",
          "text": [
            "{'Wed', 'Mon'}\n"
          ],
          "name": "stdout"
        }
      ]
    },
    {
      "cell_type": "markdown",
      "metadata": {
        "id": "8p2h9SNkBuqi"
      },
      "source": [
        "Difference of sets\n",
        "- produces a new set containing only the elements from the FIRST set and NONE from the SECOND set"
      ]
    },
    {
      "cell_type": "code",
      "metadata": {
        "id": "uC3pKafgBtOs",
        "colab": {
          "base_uri": "https://localhost:8080/"
        },
        "outputId": "83ce437e-9a7e-4642-c030-e02a96175631"
      },
      "source": [
        "DaysD = set(['Wed', 'Thur', 'Fri'])\n",
        "alldays3 = DaysA - DaysD\n",
        "print(alldays3)"
      ],
      "execution_count": 5,
      "outputs": [
        {
          "output_type": "stream",
          "text": [
            "{'Tue', 'Mon'}\n"
          ],
          "name": "stdout"
        }
      ]
    },
    {
      "cell_type": "markdown",
      "metadata": {
        "id": "VkoQQQ4jCDOS"
      },
      "source": [
        "Compare sets\n",
        "- check if a given set is a subset or a superset of another set"
      ]
    },
    {
      "cell_type": "code",
      "metadata": {
        "id": "V_-7C4gZCCI4",
        "colab": {
          "base_uri": "https://localhost:8080/"
        },
        "outputId": "d01d70fb-1c8a-4cd5-cffa-ac775c01ed98"
      },
      "source": [
        "DaysE = set(['Mon', 'Tue', 'Wed', 'Thur', 'Fri'])\n",
        "subset = DaysA <= DaysE\n",
        "superset = DaysE >= DaysA\n",
        "print(subset)\n",
        "print(superset)"
      ],
      "execution_count": 6,
      "outputs": [
        {
          "output_type": "stream",
          "text": [
            "True\n",
            "True\n"
          ],
          "name": "stdout"
        }
      ]
    }
  ]
}