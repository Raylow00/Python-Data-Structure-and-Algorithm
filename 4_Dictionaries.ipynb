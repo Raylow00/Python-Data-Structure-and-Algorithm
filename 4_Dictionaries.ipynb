{
  "nbformat": 4,
  "nbformat_minor": 0,
  "metadata": {
    "colab": {
      "name": "4_Dictionaries.ipynb",
      "provenance": [],
      "collapsed_sections": []
    },
    "kernelspec": {
      "name": "python3",
      "display_name": "Python 3"
    },
    "accelerator": "GPU"
  },
  "cells": [
    {
      "cell_type": "markdown",
      "metadata": {
        "id": "OaXZRgpJzuYJ"
      },
      "source": [
        "Dictionaries\n",
        "- separated by a colon :\n",
        "- enclosed by curly braces\n",
        "\n",
        "*NOT ALLOWED to have more than one entry per key\n",
        "\n",
        "*Keys must be IMMUTABLE, meaning cannot be traversed\n",
        "- dict = {['Name']: 'Zara' } is not allowed"
      ]
    },
    {
      "cell_type": "markdown",
      "metadata": {
        "id": "u6_5EaBLz13K"
      },
      "source": [
        "Accessing values in dictionaries\n"
      ]
    },
    {
      "cell_type": "code",
      "metadata": {
        "id": "u5f0Z3CTz36Z",
        "colab": {
          "base_uri": "https://localhost:8080/"
        },
        "outputId": "9425bd7f-5abd-4909-d9d6-330d58e1bec7"
      },
      "source": [
        "dict = {'Name': 'Zara', 'Age':7, 'Class':'first'}\n",
        "print(dict['Name'])\n",
        "print(dict['Age'])"
      ],
      "execution_count": 1,
      "outputs": [
        {
          "output_type": "stream",
          "text": [
            "Zara\n",
            "7\n"
          ],
          "name": "stdout"
        }
      ]
    },
    {
      "cell_type": "markdown",
      "metadata": {
        "id": "CO-4-FY30Hx-"
      },
      "source": [
        "Updating dictionaries\n"
      ]
    },
    {
      "cell_type": "code",
      "metadata": {
        "id": "icTU1oOr0JES",
        "colab": {
          "base_uri": "https://localhost:8080/"
        },
        "outputId": "f7d71dcc-b03e-42da-d859-f3b2c739d39f"
      },
      "source": [
        "dict['Age'] = 8\n",
        "dict['School'] = 'DPS School'\n",
        "\n",
        "print(dict['Age'])\n",
        "print(dict['School'])"
      ],
      "execution_count": 2,
      "outputs": [
        {
          "output_type": "stream",
          "text": [
            "8\n",
            "DPS School\n"
          ],
          "name": "stdout"
        }
      ]
    },
    {
      "cell_type": "markdown",
      "metadata": {
        "id": "gG3CyT-a0Svm"
      },
      "source": [
        "Delete dictionary elements\n"
      ]
    },
    {
      "cell_type": "code",
      "metadata": {
        "id": "zQx3TF0y0Ulj"
      },
      "source": [
        "#Remove entry with key 'Name'\n",
        "del dict['Name']\n",
        "\n",
        "#Remove all entries in a dict\n",
        "dict.clear()\n",
        "\n",
        "#Delete entire dictionary\n",
        "del dict"
      ],
      "execution_count": 3,
      "outputs": []
    }
  ]
}