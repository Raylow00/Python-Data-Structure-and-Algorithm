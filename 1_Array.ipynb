{
  "nbformat": 4,
  "nbformat_minor": 0,
  "metadata": {
    "colab": {
      "name": "1_Array.ipynb",
      "provenance": [],
      "collapsed_sections": []
    },
    "kernelspec": {
      "name": "python3",
      "display_name": "Python 3"
    },
    "accelerator": "GPU"
  },
  "cells": [
    {
      "cell_type": "markdown",
      "metadata": {
        "id": "1XrCIeLncA7G"
      },
      "source": [
        "Linear Data structures\n",
        "- array\n",
        "- linked list\n",
        "- stack\n",
        "- queue\n",
        "- matrix\n",
        "\n",
        "Non-linear data structures\n",
        "- binary tree\n",
        "- heap\n",
        "- hash table\n",
        "- graph\n",
        "\n",
        "Python specific data structures\n",
        "- list\n",
        "- tuple\n",
        "- dictionary"
      ]
    },
    {
      "cell_type": "markdown",
      "metadata": {
        "id": "C38ILs0JcekA"
      },
      "source": [
        "Array \n",
        "- a container to hold a fixed number of items of same TYPE\n",
        "- consists of ELEMENT and INDEX\n",
        "\n",
        "Operations\n",
        "- traverse\n",
        "- insertion\n",
        "- deletion\n",
        "- search\n",
        "- update"
      ]
    },
    {
      "cell_type": "markdown",
      "metadata": {
        "id": "IP0LgsEWdTt5"
      },
      "source": [
        "from array import *\n",
        "arrayName = array(typecode, [Initializers])\n",
        "\n",
        "Typecode:\n",
        "\n",
        "b \n",
        "- signed integer of size 1 byte\n",
        "\n",
        "B \n",
        "- unsigned integer of size 1 byte\n",
        "\n",
        "c \n",
        "- character of size 1 byte\n",
        "\n",
        "i \n",
        "- signed integer of size 2 bytes\n",
        "\n",
        "I \n",
        "- unsigned integer of size 2 bytes\n",
        "\n",
        "f \n",
        "- floating point of size 4 bytes\n",
        "\n",
        "d \n",
        "- floating point of size 8 bytes"
      ]
    },
    {
      "cell_type": "code",
      "metadata": {
        "id": "5R_Sg8eLcdyZ"
      },
      "source": [
        "from array import *\n",
        "\n",
        "#OR\n",
        "\n",
        "import numpy as np\n",
        "np.array()"
      ],
      "execution_count": null,
      "outputs": []
    },
    {
      "cell_type": "code",
      "metadata": {
        "id": "QNvt1e8mdBTm",
        "colab": {
          "base_uri": "https://localhost:8080/",
          "height": 108
        },
        "outputId": "7525701d-d2dc-4b70-a038-3a8befb75723"
      },
      "source": [
        "from array import *\n",
        "\n",
        "array1 = array('i', [10, 20, 30, 40, 50])\n",
        "\n",
        "for x in array1:\n",
        "  print(x)"
      ],
      "execution_count": null,
      "outputs": [
        {
          "output_type": "stream",
          "text": [
            "10\n",
            "20\n",
            "30\n",
            "40\n",
            "50\n"
          ],
          "name": "stdout"
        }
      ]
    },
    {
      "cell_type": "markdown",
      "metadata": {
        "id": "RBvX4lrSd5_1"
      },
      "source": [
        "Accessing array element"
      ]
    },
    {
      "cell_type": "code",
      "metadata": {
        "id": "LVuN137IdSCd",
        "colab": {
          "base_uri": "https://localhost:8080/",
          "height": 53
        },
        "outputId": "ff26eed6-3dbc-4152-d0aa-4d4eed0755cd"
      },
      "source": [
        "from array import *\n",
        "\n",
        "array1 = array('i', [10, 20, 30, 40, 50])\n",
        "print(array1[0])\n",
        "print(array1[1])"
      ],
      "execution_count": null,
      "outputs": [
        {
          "output_type": "stream",
          "text": [
            "10\n",
            "20\n"
          ],
          "name": "stdout"
        }
      ]
    },
    {
      "cell_type": "markdown",
      "metadata": {
        "id": "PMkNbIxDeE9i"
      },
      "source": [
        "Insertion "
      ]
    },
    {
      "cell_type": "code",
      "metadata": {
        "id": "Eh55FwupeC8F",
        "colab": {
          "base_uri": "https://localhost:8080/",
          "height": 126
        },
        "outputId": "b3ef35c2-e7a4-4e72-a011-171109157305"
      },
      "source": [
        "#insert an integer at index 1\n",
        "\n",
        "array1.insert(1, 60)\n",
        "for x in array1:\n",
        "  print(x)"
      ],
      "execution_count": null,
      "outputs": [
        {
          "output_type": "stream",
          "text": [
            "10\n",
            "60\n",
            "20\n",
            "30\n",
            "40\n",
            "50\n"
          ],
          "name": "stdout"
        }
      ]
    },
    {
      "cell_type": "markdown",
      "metadata": {
        "id": "-80bamGLeSuX"
      },
      "source": [
        "Deletion"
      ]
    },
    {
      "cell_type": "code",
      "metadata": {
        "id": "j51NseRgeRCN",
        "colab": {
          "base_uri": "https://localhost:8080/",
          "height": 108
        },
        "outputId": "b97b648b-6614-4ae4-83d4-60012afa8981"
      },
      "source": [
        "#remove element with integer 40\n",
        "\n",
        "array1.remove(40)\n",
        "for x in array1:\n",
        "  print(x)"
      ],
      "execution_count": null,
      "outputs": [
        {
          "output_type": "stream",
          "text": [
            "10\n",
            "60\n",
            "20\n",
            "30\n",
            "50\n"
          ],
          "name": "stdout"
        }
      ]
    },
    {
      "cell_type": "markdown",
      "metadata": {
        "id": "UAsfkKNmebbw"
      },
      "source": [
        "Search "
      ]
    },
    {
      "cell_type": "code",
      "metadata": {
        "id": "-orq9dQVeaZL",
        "colab": {
          "base_uri": "https://localhost:8080/",
          "height": 35
        },
        "outputId": "9432742c-6b9a-4056-c2fa-9be92f920ea6"
      },
      "source": [
        "#search for integer 30\n",
        "\n",
        "print(array1.index(30))"
      ],
      "execution_count": null,
      "outputs": [
        {
          "output_type": "stream",
          "text": [
            "3\n"
          ],
          "name": "stdout"
        }
      ]
    },
    {
      "cell_type": "markdown",
      "metadata": {
        "id": "BhLZ3z1oej15"
      },
      "source": [
        "Update"
      ]
    },
    {
      "cell_type": "code",
      "metadata": {
        "id": "PcAY1mJreikg",
        "colab": {
          "base_uri": "https://localhost:8080/",
          "height": 108
        },
        "outputId": "509ecbbf-0ee9-4964-aa3b-31c495e784de"
      },
      "source": [
        "#update / change the element to another integer\n",
        "\n",
        "array1[2] = 80\n",
        "for x in array1:\n",
        "  print(x)"
      ],
      "execution_count": null,
      "outputs": [
        {
          "output_type": "stream",
          "text": [
            "10\n",
            "60\n",
            "80\n",
            "30\n",
            "50\n"
          ],
          "name": "stdout"
        }
      ]
    },
    {
      "cell_type": "code",
      "metadata": {
        "id": "ySYg9Swxerpe"
      },
      "source": [
        ""
      ],
      "execution_count": null,
      "outputs": []
    }
  ]
}