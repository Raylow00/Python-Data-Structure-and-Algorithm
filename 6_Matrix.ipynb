{
  "nbformat": 4,
  "nbformat_minor": 0,
  "metadata": {
    "colab": {
      "name": "6_Matrix.ipynb",
      "provenance": [],
      "collapsed_sections": []
    },
    "kernelspec": {
      "name": "python3",
      "display_name": "Python 3"
    },
    "accelerator": "GPU"
  },
  "cells": [
    {
      "cell_type": "markdown",
      "metadata": {
        "id": "AKxO9hBq5SmI"
      },
      "source": [
        "Matrix\n",
        "- 2D array where each data element is of same size"
      ]
    },
    {
      "cell_type": "code",
      "metadata": {
        "id": "yFNr-M_B7I6P",
        "colab": {
          "base_uri": "https://localhost:8080/"
        },
        "outputId": "f55f00bf-ad49-4ff9-b79f-b7aa1bfd09e0"
      },
      "source": [
        "#- day - morning - mid-day - evening - mid-night\n",
        "\n",
        "from numpy import *\n",
        "a = array([['Mon', 18,20,22,17],['Tue', 11,18,21,18],['Wed', 15,21,20,19],['Thur', 11,20,22,21],['Fri', 18,17,23,22], ['Sat', 12,22,20,18], ['Sun', 13,15,19,16]])\n",
        "\n",
        "matrix = a.reshape((7,5))\n",
        "print(matrix)"
      ],
      "execution_count": 1,
      "outputs": [
        {
          "output_type": "stream",
          "text": [
            "[['Mon' '18' '20' '22' '17']\n",
            " ['Tue' '11' '18' '21' '18']\n",
            " ['Wed' '15' '21' '20' '19']\n",
            " ['Thur' '11' '20' '22' '21']\n",
            " ['Fri' '18' '17' '23' '22']\n",
            " ['Sat' '12' '22' '20' '18']\n",
            " ['Sun' '13' '15' '19' '16']]\n"
          ],
          "name": "stdout"
        }
      ]
    },
    {
      "cell_type": "markdown",
      "metadata": {
        "id": "68-W0gPg7k39"
      },
      "source": [
        "Accessing values in matrix\n"
      ]
    },
    {
      "cell_type": "code",
      "metadata": {
        "id": "5HUpVp-q7jNs",
        "colab": {
          "base_uri": "https://localhost:8080/"
        },
        "outputId": "2bf06ec4-857d-4a1e-a134-01d5ac070d97"
      },
      "source": [
        "#Data for wednesday\n",
        "print(matrix[2])\n",
        "\n",
        "#Data for Friday evening\n",
        "print(matrix[4][3])"
      ],
      "execution_count": 2,
      "outputs": [
        {
          "output_type": "stream",
          "text": [
            "['Wed' '15' '21' '20' '19']\n",
            "23\n"
          ],
          "name": "stdout"
        }
      ]
    },
    {
      "cell_type": "markdown",
      "metadata": {
        "id": "r3JpVrNf78JA"
      },
      "source": [
        "Adding a row"
      ]
    },
    {
      "cell_type": "code",
      "metadata": {
        "id": "vUojiQIj73Od",
        "colab": {
          "base_uri": "https://localhost:8080/"
        },
        "outputId": "e2b269ee-d0e8-41d9-9320-958deb261356"
      },
      "source": [
        "matrix_row = append(matrix, [['Avg', 12,15,13,11]], 0)\n",
        "print(matrix_row)"
      ],
      "execution_count": 3,
      "outputs": [
        {
          "output_type": "stream",
          "text": [
            "[['Mon' '18' '20' '22' '17']\n",
            " ['Tue' '11' '18' '21' '18']\n",
            " ['Wed' '15' '21' '20' '19']\n",
            " ['Thur' '11' '20' '22' '21']\n",
            " ['Fri' '18' '17' '23' '22']\n",
            " ['Sat' '12' '22' '20' '18']\n",
            " ['Sun' '13' '15' '19' '16']\n",
            " ['Avg' '12' '15' '13' '11']]\n"
          ],
          "name": "stdout"
        }
      ]
    },
    {
      "cell_type": "markdown",
      "metadata": {
        "id": "cWpsWm588PC_"
      },
      "source": [
        "Adding a column\n",
        "- mention the INDEX where we want to add the column and the ARRAY containing the new values"
      ]
    },
    {
      "cell_type": "code",
      "metadata": {
        "id": "7qWU1unQ8Jyd",
        "colab": {
          "base_uri": "https://localhost:8080/"
        },
        "outputId": "12f6f5ef-7b7f-4d75-bb72-65f6751d8273"
      },
      "source": [
        "matrix_col = insert(matrix, [5], [[1],[2],[3],[4],[5],[6],[7]],1)\n",
        "print(matrix_col)"
      ],
      "execution_count": 4,
      "outputs": [
        {
          "output_type": "stream",
          "text": [
            "[['Mon' '18' '20' '22' '17' '1']\n",
            " ['Tue' '11' '18' '21' '18' '2']\n",
            " ['Wed' '15' '21' '20' '19' '3']\n",
            " ['Thur' '11' '20' '22' '21' '4']\n",
            " ['Fri' '18' '17' '23' '22' '5']\n",
            " ['Sat' '12' '22' '20' '18' '6']\n",
            " ['Sun' '13' '15' '19' '16' '7']]\n"
          ],
          "name": "stdout"
        }
      ]
    },
    {
      "cell_type": "markdown",
      "metadata": {
        "id": "MpeoJ3EV--yL"
      },
      "source": [
        "Delete a row from matrix"
      ]
    },
    {
      "cell_type": "code",
      "metadata": {
        "id": "nauRahtE8r5r",
        "colab": {
          "base_uri": "https://localhost:8080/"
        },
        "outputId": "65a5dab0-a9b1-42ea-cec7-c86989289f89"
      },
      "source": [
        "matrix = delete(matrix, [2], 0)\n",
        "print(matrix)"
      ],
      "execution_count": 5,
      "outputs": [
        {
          "output_type": "stream",
          "text": [
            "[['Mon' '18' '20' '22' '17']\n",
            " ['Tue' '11' '18' '21' '18']\n",
            " ['Thur' '11' '20' '22' '21']\n",
            " ['Fri' '18' '17' '23' '22']\n",
            " ['Sat' '12' '22' '20' '18']\n",
            " ['Sun' '13' '15' '19' '16']]\n"
          ],
          "name": "stdout"
        }
      ]
    },
    {
      "cell_type": "markdown",
      "metadata": {
        "id": "cQqAYEmL_I5I"
      },
      "source": [
        "Delete a column from matrix"
      ]
    },
    {
      "cell_type": "code",
      "metadata": {
        "id": "mDwyXNSw_HRE",
        "colab": {
          "base_uri": "https://localhost:8080/"
        },
        "outputId": "b9bf254c-bdbb-4e9a-e347-99e33c5b0b6c"
      },
      "source": [
        "matrix = delete(matrix, s_[2], 1)\n",
        "print(matrix)"
      ],
      "execution_count": 6,
      "outputs": [
        {
          "output_type": "stream",
          "text": [
            "[['Mon' '18' '22' '17']\n",
            " ['Tue' '11' '21' '18']\n",
            " ['Thur' '11' '22' '21']\n",
            " ['Fri' '18' '23' '22']\n",
            " ['Sat' '12' '20' '18']\n",
            " ['Sun' '13' '19' '16']]\n"
          ],
          "name": "stdout"
        }
      ]
    },
    {
      "cell_type": "markdown",
      "metadata": {
        "id": "P3WeQfTN_eJw"
      },
      "source": [
        "Update a row in matrix"
      ]
    },
    {
      "cell_type": "code",
      "metadata": {
        "id": "5pHWPbJ2_YmB",
        "colab": {
          "base_uri": "https://localhost:8080/"
        },
        "outputId": "93ae3e5b-f824-4c69-ee7d-5df3f3eeb323"
      },
      "source": [
        "matrix[3] = ['Thur', 0,0,0]\n",
        "print(matrix)"
      ],
      "execution_count": 7,
      "outputs": [
        {
          "output_type": "stream",
          "text": [
            "[['Mon' '18' '22' '17']\n",
            " ['Tue' '11' '21' '18']\n",
            " ['Thur' '11' '22' '21']\n",
            " ['Thur' '0' '0' '0']\n",
            " ['Sat' '12' '20' '18']\n",
            " ['Sun' '13' '19' '16']]\n"
          ],
          "name": "stdout"
        }
      ]
    }
  ]
}