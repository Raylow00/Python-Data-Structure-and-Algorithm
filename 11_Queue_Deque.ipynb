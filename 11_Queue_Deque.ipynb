{
  "nbformat": 4,
  "nbformat_minor": 0,
  "metadata": {
    "colab": {
      "name": "11_Queue/Deque.ipynb",
      "provenance": [],
      "collapsed_sections": []
    },
    "kernelspec": {
      "name": "python3",
      "display_name": "Python 3"
    },
    "accelerator": "GPU"
  },
  "cells": [
    {
      "cell_type": "markdown",
      "metadata": {
        "id": "OkMPWkHE6_HY"
      },
      "source": [
        "Queue\n",
        "- is essentially a Python list\n",
        "- First In First Out (FIFO)"
      ]
    },
    {
      "cell_type": "markdown",
      "metadata": {
        "id": "UWUTOnmv7Fjy"
      },
      "source": [
        "Adding elements to queue\n",
        "- built in insert()"
      ]
    },
    {
      "cell_type": "code",
      "metadata": {
        "id": "D1ESYNvC7Hgo",
        "colab": {
          "base_uri": "https://localhost:8080/"
        },
        "outputId": "c66cb56b-e0da-49da-d487-326517a8e0fd"
      },
      "source": [
        "class Queue:\n",
        "  def __init__(self):\n",
        "    self.queue = list()\n",
        "    \n",
        "  def addtoq(self, dataval):\n",
        "    if dataval not in self.queue:\n",
        "      #add to index position 0 because first in first out, need the data to be out first later on\n",
        "      self.queue.insert(0, dataval)\n",
        "      return True\n",
        "    else:\n",
        "      return False\n",
        "    \n",
        "  def size(self):\n",
        "    return len(self.queue)\n",
        "  \n",
        "q1 = Queue()\n",
        "q1.addtoq('Mon')\n",
        "q1.addtoq('Tue')\n",
        "q1.addtoq('Wed')\n",
        "\n",
        "print(q1.size())"
      ],
      "execution_count": 1,
      "outputs": [
        {
          "output_type": "stream",
          "text": [
            "3\n"
          ],
          "name": "stdout"
        }
      ]
    },
    {
      "cell_type": "markdown",
      "metadata": {
        "id": "eaPl-cBE8a0O"
      },
      "source": [
        "Removing an element from a queue\n",
        "- built in pop()"
      ]
    },
    {
      "cell_type": "code",
      "metadata": {
        "id": "oBKrwAHV8emG",
        "colab": {
          "base_uri": "https://localhost:8080/"
        },
        "outputId": "35dc0353-aa11-4078-ab91-7e3bfabb525b"
      },
      "source": [
        "class Queue:\n",
        "  def __init__(self):\n",
        "    self.queue = list()\n",
        "    \n",
        "  def addtoq(self, dataval):\n",
        "    if dataval not in self.queue:\n",
        "      self.queue.insert(0, dataval)\n",
        "      return True\n",
        "    else:\n",
        "      return False\n",
        "    \n",
        "  def remove(self):\n",
        "    if(len(self.queue)>0):\n",
        "      return self.queue.pop()\n",
        "    return ('No elements are present in the Queue')\n",
        "  \n",
        "\n",
        "q2 = Queue()\n",
        "q2.addtoq('Mon')\n",
        "q2.addtoq('Tue')\n",
        "q2.addtoq('Wed')\n",
        "\n",
        "print(q2.remove())"
      ],
      "execution_count": 2,
      "outputs": [
        {
          "output_type": "stream",
          "text": [
            "Mon\n"
          ],
          "name": "stdout"
        }
      ]
    },
    {
      "cell_type": "markdown",
      "metadata": {
        "id": "6S4fMKzp94Vu"
      },
      "source": [
        " ------------------------------"
      ]
    },
    {
      "cell_type": "markdown",
      "metadata": {
        "id": "EUNisqd794kb"
      },
      "source": [
        "Deque\n",
        "- has the feature of adding and removing elements from either end"
      ]
    },
    {
      "cell_type": "code",
      "metadata": {
        "id": "Fy78GViY8P-V",
        "colab": {
          "base_uri": "https://localhost:8080/"
        },
        "outputId": "9ff56037-0c70-4af6-9cea-1604a6bc1bc1"
      },
      "source": [
        "import collections\n",
        "\n",
        "#Creating a deque\n",
        "doubleEnded = collections.deque(['Mon', 'Tue', 'Wed'])\n",
        "print(doubleEnded)\n",
        "\n",
        "#Append to the right\n",
        "print('Adding to the right')\n",
        "doubleEnded.append('Thu')\n",
        "print(doubleEnded)\n",
        "\n",
        "#Append to the left\n",
        "print('Adding to the left')\n",
        "doubleEnded.appendleft('Sun')\n",
        "print(doubleEnded)\n",
        "\n",
        "#Remove from the right\n",
        "print('Removing from the right')\n",
        "doubleEnded.pop()\n",
        "print(doubleEnded)\n",
        "\n",
        "#Remove from the left\n",
        "print('Removing from the left')\n",
        "doubleEnded.popleft()\n",
        "print(doubleEnded)\n",
        "\n",
        "#Reverse the deque\n",
        "doubleEnded.reverse()\n",
        "print(doubleEnded)"
      ],
      "execution_count": 3,
      "outputs": [
        {
          "output_type": "stream",
          "text": [
            "deque(['Mon', 'Tue', 'Wed'])\n",
            "Adding to the right\n",
            "deque(['Mon', 'Tue', 'Wed', 'Thu'])\n",
            "Adding to the left\n",
            "deque(['Sun', 'Mon', 'Tue', 'Wed', 'Thu'])\n",
            "Removing from the right\n",
            "deque(['Sun', 'Mon', 'Tue', 'Wed'])\n",
            "Removing from the left\n",
            "deque(['Mon', 'Tue', 'Wed'])\n",
            "deque(['Wed', 'Tue', 'Mon'])\n"
          ],
          "name": "stdout"
        }
      ]
    }
  ]
}